{
  "nbformat": 4,
  "nbformat_minor": 0,
  "metadata": {
    "colab": {
      "name": "help.ipynb",
      "provenance": [],
      "authorship_tag": "ABX9TyN1DrAph2b7hWoq9eT7ZtjP",
      "include_colab_link": true
    },
    "kernelspec": {
      "name": "python3",
      "display_name": "Python 3"
    }
  },
  "cells": [
    {
      "cell_type": "markdown",
      "metadata": {
        "id": "view-in-github",
        "colab_type": "text"
      },
      "source": [
        "<a href=\"https://colab.research.google.com/github/casangi/cngi_prototype/blob/master/docs/help.ipynb\" target=\"_parent\"><img src=\"https://colab.research.google.com/assets/colab-badge.svg\" alt=\"Open In Colab\"/></a>"
      ]
    },
    {
      "cell_type": "markdown",
      "metadata": {
        "id": "4Cp1eCXSzqDT",
        "colab_type": "text"
      },
      "source": [
        "# Help and Support\n",
        "Placeholder, more to be announced with the first official release."
      ]
    },
    {
      "cell_type": "markdown",
      "metadata": {
        "id": "O5SXWUW9z3Q-",
        "colab_type": "text"
      },
      "source": [
        "## Bug Reports\n",
        "Before submitting a bug, please create a Google Colaboratory notebook demonstrating the problem. Submit a\n",
        "link to the notebook along with the bug report.\n",
        "\n",
        "Bugs may be submitted to the github repository here:  \n",
        "https://github.com/casangi/cngi_prototype/issues\n",
        "\n",
        "  \n",
        "---\n",
        "\n"
      ]
    },
    {
      "cell_type": "markdown",
      "metadata": {
        "id": "iUtRZVBIz78_",
        "colab_type": "text"
      },
      "source": [
        "## Known Issues\n",
        "\n",
        "1.   There is no great way to join DDIs / SPWs that doesn't confuse the attributes and global dataset\n",
        "2.   \"Units\" on data variables / coords is a loosely followed concept relying on attributes and user intelligence\n",
        "\n",
        "\n",
        "\n",
        "\n",
        "\n",
        "---\n",
        "\n"
      ]
    },
    {
      "cell_type": "markdown",
      "metadata": {
        "id": "kKf8-niT0jvu",
        "colab_type": "text"
      },
      "source": [
        "## ToDo List\n",
        "Currently planned near(-ish) term items\n",
        "\n",
        "*CNGI Prototype*\n",
        "\n",
        "1.   TOPO to LSRK conversion function (includes vis.regridspw) - Andrew\n",
        "2.   New module for external data interfacing (measures, ephemerides, etc) - Ryan\n",
        "3.   Numerical comparison to CASA6.1 release - Ryan\n",
        "4.   Spectral line fitting on images\n",
        "5.   image.moment\n",
        "6.   vis.recalculateuvw - maybe rename to phaseshift?\n",
        "7.   Figure out a philosophy for SPW/DDI joins (includes vis.joinspw)\n",
        "8.   HTCondor dask scheduler - investigate execution on workers without shared filesystem\n",
        "9.   Performance benchmarking of large data computations\n",
        "10.   Directly read / convert ASDM format\n",
        "\n",
        "\n",
        "*ngCASA Prototype*\n",
        "\n",
        "1.   Synthesis imaging design layout - Jan-Willem\n",
        "2.   Gridder weightings - Jan-Willem\n",
        "3.   Flagging design (actual application is in CNGI, but creation / management is in ngCASA)\n",
        "4.   Calibration design\n",
        "5.   Interactive U/I design\n",
        "\n",
        "\n"
      ]
    }
  ]
}