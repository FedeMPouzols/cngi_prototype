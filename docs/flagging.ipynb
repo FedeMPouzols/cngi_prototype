{
  "nbformat": 4,
  "nbformat_minor": 0,
  "metadata": {
    "celltoolbar": "Edit Metadata",
    "colab": {
      "name": "flagging.ipynb",
      "provenance": [],
      "collapsed_sections": [],
      "toc_visible": true
    },
    "kernelspec": {
      "display_name": "Python 3",
      "language": "python",
      "name": "python3"
    },
    "language_info": {
      "codemirror_mode": {
        "name": "ipython",
        "version": 3
      },
      "file_extension": ".py",
      "mimetype": "text/x-python",
      "name": "python",
      "nbconvert_exporter": "python",
      "pygments_lexer": "ipython3",
      "version": "3.6.3"
    }
  },
  "cells": [
    {
      "cell_type": "markdown",
      "metadata": {
        "id": "aQ2HVIc9VmfB"
      },
      "source": [
        "# Flagging\n",
        "\n",
        "Demonstration of prototype ngCASA flagging functions. Tbis is work in progress."
      ]
    },
    {
      "cell_type": "markdown",
      "metadata": {
        "id": "2Dm7K1G0iWX_"
      },
      "source": [
        "This walkthrough is designed to be run in a Jupyter notebook on Google Colaboratory. To open the notebook in colab, go [here](https://colab.research.google.com/github/FedeMPouzols/cngi_prototype/blob/ngcasa_flagging_experiments/docs/flagging.ipynb)\n",
        "\n"
      ]
    },
    {
      "cell_type": "code",
      "metadata": {
        "id": "ipEauu1Jh4xJ"
      },
      "source": [
        "\\# Installation\n",
        "import os\n",
        "print(\"installing casa6 + cngi (takes a minute or two)...\")\n",
        "os.system(\"apt-get install libgfortran3\")\n",
        "os.system(\"pip install --index-url https://casa-pip.nrao.edu/repository/pypi-casa-release/simple casatools==6.1.0.118\")\n",
        "os.system(\"pip install cngi-prototype==0.0.67\")\n",
        "\n",
        "\\# Retrieve and extract demonstration dataset\n",
        "print('retrieving MS tarfiles...')\n",
        "!gdown -q --id 15HfB4rJKqEH7df088Ge5YLrCTXBIax6R\n",
        "!gdown -q --id 1N9QSs2Hbhi-BrEHx5PA54WigXt8GGgx1\n",
        "print('extracting MS tarfiles...')\n",
        "!tar -xf M100.ms.tar\n",
        "!tar -xzf sis14_twhya_calibrated_flagged.ms.tar.gz\n",
        "\n",
        "print('complete')"
      ],
      "execution_count": null,
      "outputs": []
    },
    {
      "cell_type": "markdown",
      "metadata": {
        "id": "dGtBsZgZj4sn"
      },
      "source": [
        "## Initialize the Environment\n",
        "Omitting for now. I think we don't need it here and it shouldn't show up here at the ngCASA level anyway."
      ]
    },
    {
      "cell_type": "markdown",
      "metadata": {
        "id": "GwVQyWI1jGf8"
      },
      "source": [
        "## Load demo data"
      ]
    },
    {
      "cell_type": "code",
      "metadata": {
        "id": "03C__ZipjIP0"
      },
      "source": [
        ""
      ],
      "execution_count": null,
      "outputs": []
    },
    {
      "cell_type": "markdown",
      "metadata": {
        "id": "56u8CD6oh6-r"
      },
      "source": [
        "## Handling flag versions\n",
        "\n",
        "\n"
      ]
    },
    {
      "cell_type": "code",
      "metadata": {
        "id": "lS65GxBoiGID"
      },
      "source": [
        ""
      ],
      "execution_count": null,
      "outputs": []
    },
    {
      "cell_type": "markdown",
      "metadata": {
        "id": "imd3mXGWiJTx"
      },
      "source": [
        "## Flag summaries"
      ]
    },
    {
      "cell_type": "code",
      "metadata": {
        "id": "7e_Iwy2OiJ7n"
      },
      "source": [
        ""
      ],
      "execution_count": null,
      "outputs": []
    },
    {
      "cell_type": "markdown",
      "metadata": {
        "id": "ArKo37PtiKZF"
      },
      "source": [
        "## Applying flagging methods\n",
        "\n",
        "\n"
      ]
    },
    {
      "cell_type": "code",
      "metadata": {
        "id": "JHSr1JxOiUeF"
      },
      "source": [
        ""
      ],
      "execution_count": null,
      "outputs": []
    }
  ]
}