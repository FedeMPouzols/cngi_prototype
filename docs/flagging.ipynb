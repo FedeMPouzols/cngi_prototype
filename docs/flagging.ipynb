{
 "cells": [
  {
   "cell_type": "markdown",
   "metadata": {
    "id": "aQ2HVIc9VmfB"
   },
   "source": [
    "# Flagging\n",
    "\n",
    "ngCASA demonstration of flagging prototype functions\n",
    "\n",
    "This walkthrough is designed to be run in a Jupyter notebook on Google Colaboratory. To open the notebook in colab, go [here](https://colab.research.google.com/github/FedeMPouzols/cngi_prototype/blob/ngcasa_flagging_experiments/docs/flagging.ipynb\n",
    "\n",
    "\\# Installation\n",
    "import os\n",
    "print(\"installing casa6 + cngi (takes a minute or two)...\")\n",
    "os.system(\"apt-get install libgfortran3\")\n",
    "os.system(\"pip install --index-url https://casa-pip.nrao.edu/repository/pypi-casa-release/simple casatools==6.1.0.118\")\n",
    "os.system(\"pip install cngi-prototype==0.0.67\")\n",
    "\n",
    "\\# Retrieve and extract demonstration dataset\n",
    "print('retrieving MS tarfiles...')\n",
    "!gdown -q --id 15HfB4rJKqEH7df088Ge5YLrCTXBIax6R\n",
    "!gdown -q --id 1N9QSs2Hbhi-BrEHx5PA54WigXt8GGgx1\n",
    "print('extracting MS tarfiles...')\n",
    "!tar -xf M100.ms.tar\n",
    "!tar -xzf sis14_twhya_calibrated_flagged.ms.tar.gz\n",
    "\n",
    "print('complete')\n",
    "\n",
    "# Handling flag versions\n",
    "\n",
    "# Flag summaries\n",
    "\n",
    "# Applying flagging methods\n"
   ]
  }
 ],
 "metadata": {
  "colab": {
   "collapsed_sections": [],
   "name": "flagging.ipynb",
   "provenance": [],
   "toc_visible": true
  },
  "kernelspec": {
   "display_name": "Python 3",
   "language": "python",
   "name": "python3"
  },
  "language_info": {
   "codemirror_mode": {
    "name": "ipython",
    "version": 3
   },
   "file_extension": ".py",
   "mimetype": "text/x-python",
   "name": "python",
   "nbconvert_exporter": "python",
   "pygments_lexer": "ipython3",
   "version": "3.6.3"
  }
 },
 "nbformat": 4,
 "nbformat_minor": 1
}
