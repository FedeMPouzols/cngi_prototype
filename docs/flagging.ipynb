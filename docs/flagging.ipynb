{
  "nbformat": 4,
  "nbformat_minor": 0,
  "metadata": {
    "celltoolbar": "Edit Metadata",
    "colab": {
      "name": "flagging.ipynb",
      "provenance": [],
      "collapsed_sections": [],
      "toc_visible": true
    },
    "kernelspec": {
      "display_name": "Python 3",
      "language": "python",
      "name": "python3"
    },
    "language_info": {
      "codemirror_mode": {
        "name": "ipython",
        "version": 3
      },
      "file_extension": ".py",
      "mimetype": "text/x-python",
      "name": "python",
      "nbconvert_exporter": "python",
      "pygments_lexer": "ipython3",
      "version": "3.6.3"
    }
  },
  "cells": [
    {
      "cell_type": "markdown",
      "metadata": {
        "id": "aQ2HVIc9VmfB"
      },
      "source": [
        "# Flagging\n",
        "\n",
        "Demonstration of prototype ngCASA flagging functions. This is work in progress."
      ]
    },
    {
      "cell_type": "markdown",
      "metadata": {
        "id": "2Dm7K1G0iWX_"
      },
      "source": [
        "This walkthrough is designed to be run in a Jupyter notebook on Google Colaboratory. To open the notebook in colab, go [here](https://colab.research.google.com/github/FedeMPouzols/cngi_prototype/blob/ngcasa_flagging_experiments/docs/flagging.ipynb)\n",
        "\n"
      ]
    },
    {
      "cell_type": "markdown",
      "metadata": {
        "id": "6jAvLRNvJlW4"
      },
      "source": [
        "## Get required packages and data"
      ]
    },
    {
      "cell_type": "code",
      "metadata": {
        "id": "F5_Wvk8MyQ3P"
      },
      "source": [
        "# TEMPORARY WORKAROUND for Python 3.7 - you must run this notebook twice!!\n",
        "import os\n",
        "import numpy as np\n",
        "\n",
        "if np.__version__ != '1.20.1':\n",
        "    print('updating numpy and killing runtime....\\nPlease re-run this notebook (Runtime -> Run all)')\n",
        "    os.system('pip install --upgrade numpy==1.20.1')\n",
        "    os._exit(00)"
      ],
      "execution_count": 16,
      "outputs": []
    },
    {
      "cell_type": "code",
      "metadata": {
        "id": "ipEauu1Jh4xJ",
        "colab": {
          "base_uri": "https://localhost:8080/"
        },
        "outputId": "6be29773-bed9-4d38-f5fc-c009894993db"
      },
      "source": [
        "# Installation\n",
        "import os\n",
        "# (WIP note: we might get by without casatools, if we prepare some .vis.zarr available for download re-check)\n",
        "print(\"installing casa6 + cngi (takes a minute or two)...\")\n",
        "!apt-get install libgfortran3\n",
        "\n",
        "!pip install --index-url https://casa-pip.nrao.edu:443/repository/pypi-group/simple casatasks==6.2.0.96\n",
        "!pip install --index-url https://casa-pip.nrao.edu:443/repository/pypi-group/simple casadata\n",
        "!pip install --extra-index-url https://test.pypi.org/simple/ cngi-prototype==0.0.75"
      ],
      "execution_count": 17,
      "outputs": [
        {
          "output_type": "stream",
          "text": [
            "installing casa6 + cngi (takes a minute or two)...\n",
            "Reading package lists... Done\n",
            "Building dependency tree       \n",
            "Reading state information... Done\n",
            "libgfortran3 is already the newest version (6.5.0-2ubuntu1~18.04).\n",
            "0 upgraded, 0 newly installed, 0 to remove and 29 not upgraded.\n",
            "Looking in indexes: https://casa-pip.nrao.edu:443/repository/pypi-group/simple\n",
            "Requirement already satisfied: casatasks==6.2.0.96 in /usr/local/lib/python3.7/dist-packages (6.2.0.96)\n",
            "Requirement already satisfied: scipy in /usr/local/lib/python3.7/dist-packages (from casatasks==6.2.0.96) (1.4.1)\n",
            "Requirement already satisfied: casatools==6.2.0.96 in /usr/local/lib/python3.7/dist-packages (from casatasks==6.2.0.96) (6.2.0.96)\n",
            "Requirement already satisfied: matplotlib in /usr/local/lib/python3.7/dist-packages (from casatasks==6.2.0.96) (3.2.2)\n",
            "Requirement already satisfied: numpy>=1.13.3 in /usr/local/lib/python3.7/dist-packages (from scipy->casatasks==6.2.0.96) (1.20.1)\n",
            "Requirement already satisfied: python-dateutil>=2.1 in /usr/local/lib/python3.7/dist-packages (from matplotlib->casatasks==6.2.0.96) (2.8.1)\n",
            "Requirement already satisfied: cycler>=0.10 in /usr/local/lib/python3.7/dist-packages (from matplotlib->casatasks==6.2.0.96) (0.10.0)\n",
            "Requirement already satisfied: kiwisolver>=1.0.1 in /usr/local/lib/python3.7/dist-packages (from matplotlib->casatasks==6.2.0.96) (1.3.1)\n",
            "Requirement already satisfied: pyparsing!=2.0.4,!=2.1.2,!=2.1.6,>=2.0.1 in /usr/local/lib/python3.7/dist-packages (from matplotlib->casatasks==6.2.0.96) (2.4.7)\n",
            "Requirement already satisfied: six>=1.5 in /usr/local/lib/python3.7/dist-packages (from python-dateutil>=2.1->matplotlib->casatasks==6.2.0.96) (1.15.0)\n",
            "Looking in indexes: https://casa-pip.nrao.edu:443/repository/pypi-group/simple\n",
            "Requirement already satisfied: casadata in /usr/local/lib/python3.7/dist-packages (2021.2.1)\n",
            "Looking in indexes: https://pypi.org/simple, https://test.pypi.org/simple/\n",
            "Requirement already satisfied: cngi-prototype==0.0.75 in /usr/local/lib/python3.7/dist-packages (0.0.75)\n",
            "Requirement already satisfied: bokeh>=1.4.0 in /usr/local/lib/python3.7/dist-packages (from cngi-prototype==0.0.75) (2.1.1)\n",
            "Requirement already satisfied: numba>=0.51.0 in /usr/local/lib/python3.7/dist-packages (from cngi-prototype==0.0.75) (0.51.2)\n",
            "Requirement already satisfied: zarr>=2.3.2 in /usr/local/lib/python3.7/dist-packages (from cngi-prototype==0.0.75) (2.6.1)\n",
            "Requirement already satisfied: distributed>=2.9.3 in /usr/local/lib/python3.7/dist-packages (from cngi-prototype==0.0.75) (2021.3.0)\n",
            "Requirement already satisfied: numpy>=1.18.1 in /usr/local/lib/python3.7/dist-packages (from cngi-prototype==0.0.75) (1.20.1)\n",
            "Requirement already satisfied: numcodecs>=0.6.3 in /usr/local/lib/python3.7/dist-packages (from cngi-prototype==0.0.75) (0.7.3)\n",
            "Requirement already satisfied: pandas>=0.25.2 in /usr/local/lib/python3.7/dist-packages (from cngi-prototype==0.0.75) (1.1.5)\n",
            "Requirement already satisfied: scipy>=1.4.1 in /usr/local/lib/python3.7/dist-packages (from cngi-prototype==0.0.75) (1.4.1)\n",
            "Requirement already satisfied: scikit-learn>=0.22.2 in /usr/local/lib/python3.7/dist-packages (from cngi-prototype==0.0.75) (0.22.2.post1)\n",
            "Requirement already satisfied: toolz>=0.10.0 in /usr/local/lib/python3.7/dist-packages (from cngi-prototype==0.0.75) (0.11.1)\n",
            "Requirement already satisfied: matplotlib>=3.1.2 in /usr/local/lib/python3.7/dist-packages (from cngi-prototype==0.0.75) (3.2.2)\n",
            "Requirement already satisfied: fsspec>=0.6.2 in /usr/local/lib/python3.7/dist-packages (from cngi-prototype==0.0.75) (0.8.7)\n",
            "Requirement already satisfied: graphviz>=0.13.2 in /usr/local/lib/python3.7/dist-packages (from cngi-prototype==0.0.75) (0.16)\n",
            "Requirement already satisfied: xarray>=0.15.0 in /usr/local/lib/python3.7/dist-packages (from cngi-prototype==0.0.75) (0.15.1)\n",
            "Requirement already satisfied: dask>=2.13.0 in /usr/local/lib/python3.7/dist-packages (from cngi-prototype==0.0.75) (2021.3.0)\n",
            "Requirement already satisfied: packaging>=16.8 in /usr/local/lib/python3.7/dist-packages (from bokeh>=1.4.0->cngi-prototype==0.0.75) (20.9)\n",
            "Requirement already satisfied: typing-extensions>=3.7.4 in /usr/local/lib/python3.7/dist-packages (from bokeh>=1.4.0->cngi-prototype==0.0.75) (3.7.4.3)\n",
            "Requirement already satisfied: python-dateutil>=2.1 in /usr/local/lib/python3.7/dist-packages (from bokeh>=1.4.0->cngi-prototype==0.0.75) (2.8.1)\n",
            "Requirement already satisfied: PyYAML>=3.10 in /usr/local/lib/python3.7/dist-packages (from bokeh>=1.4.0->cngi-prototype==0.0.75) (3.13)\n",
            "Requirement already satisfied: pillow>=4.0 in /usr/local/lib/python3.7/dist-packages (from bokeh>=1.4.0->cngi-prototype==0.0.75) (7.0.0)\n",
            "Requirement already satisfied: Jinja2>=2.7 in /usr/local/lib/python3.7/dist-packages (from bokeh>=1.4.0->cngi-prototype==0.0.75) (2.11.3)\n",
            "Requirement already satisfied: tornado>=5.1 in /usr/local/lib/python3.7/dist-packages (from bokeh>=1.4.0->cngi-prototype==0.0.75) (5.1.1)\n",
            "Requirement already satisfied: llvmlite<0.35,>=0.34.0.dev0 in /usr/local/lib/python3.7/dist-packages (from numba>=0.51.0->cngi-prototype==0.0.75) (0.34.0)\n",
            "Requirement already satisfied: setuptools in /usr/local/lib/python3.7/dist-packages (from numba>=0.51.0->cngi-prototype==0.0.75) (54.0.0)\n",
            "Requirement already satisfied: fasteners in /usr/local/lib/python3.7/dist-packages (from zarr>=2.3.2->cngi-prototype==0.0.75) (0.16)\n",
            "Requirement already satisfied: asciitree in /usr/local/lib/python3.7/dist-packages (from zarr>=2.3.2->cngi-prototype==0.0.75) (0.3.3)\n",
            "Requirement already satisfied: msgpack>=0.6.0 in /usr/local/lib/python3.7/dist-packages (from distributed>=2.9.3->cngi-prototype==0.0.75) (1.0.2)\n",
            "Requirement already satisfied: psutil>=5.0 in /usr/local/lib/python3.7/dist-packages (from distributed>=2.9.3->cngi-prototype==0.0.75) (5.4.8)\n",
            "Requirement already satisfied: tblib>=1.6.0 in /usr/local/lib/python3.7/dist-packages (from distributed>=2.9.3->cngi-prototype==0.0.75) (1.7.0)\n",
            "Requirement already satisfied: sortedcontainers!=2.0.0,!=2.0.1 in /usr/local/lib/python3.7/dist-packages (from distributed>=2.9.3->cngi-prototype==0.0.75) (2.3.0)\n",
            "Requirement already satisfied: zict>=0.1.3 in /usr/local/lib/python3.7/dist-packages (from distributed>=2.9.3->cngi-prototype==0.0.75) (2.0.0)\n",
            "Requirement already satisfied: cloudpickle>=1.5.0 in /usr/local/lib/python3.7/dist-packages (from distributed>=2.9.3->cngi-prototype==0.0.75) (1.6.0)\n",
            "Requirement already satisfied: click>=6.6 in /usr/local/lib/python3.7/dist-packages (from distributed>=2.9.3->cngi-prototype==0.0.75) (7.1.2)\n",
            "Requirement already satisfied: pytz>=2017.2 in /usr/local/lib/python3.7/dist-packages (from pandas>=0.25.2->cngi-prototype==0.0.75) (2018.9)\n",
            "Requirement already satisfied: joblib>=0.11 in /usr/local/lib/python3.7/dist-packages (from scikit-learn>=0.22.2->cngi-prototype==0.0.75) (1.0.1)\n",
            "Requirement already satisfied: cycler>=0.10 in /usr/local/lib/python3.7/dist-packages (from matplotlib>=3.1.2->cngi-prototype==0.0.75) (0.10.0)\n",
            "Requirement already satisfied: pyparsing!=2.0.4,!=2.1.2,!=2.1.6,>=2.0.1 in /usr/local/lib/python3.7/dist-packages (from matplotlib>=3.1.2->cngi-prototype==0.0.75) (2.4.7)\n",
            "Requirement already satisfied: kiwisolver>=1.0.1 in /usr/local/lib/python3.7/dist-packages (from matplotlib>=3.1.2->cngi-prototype==0.0.75) (1.3.1)\n",
            "Requirement already satisfied: importlib-metadata; python_version < \"3.8\" in /usr/local/lib/python3.7/dist-packages (from fsspec>=0.6.2->cngi-prototype==0.0.75) (3.7.0)\n",
            "Requirement already satisfied: six>=1.5 in /usr/local/lib/python3.7/dist-packages (from python-dateutil>=2.1->bokeh>=1.4.0->cngi-prototype==0.0.75) (1.15.0)\n",
            "Requirement already satisfied: MarkupSafe>=0.23 in /usr/local/lib/python3.7/dist-packages (from Jinja2>=2.7->bokeh>=1.4.0->cngi-prototype==0.0.75) (1.1.1)\n",
            "Requirement already satisfied: heapdict in /usr/local/lib/python3.7/dist-packages (from zict>=0.1.3->distributed>=2.9.3->cngi-prototype==0.0.75) (1.0.1)\n",
            "Requirement already satisfied: zipp>=0.5 in /usr/local/lib/python3.7/dist-packages (from importlib-metadata; python_version < \"3.8\"->fsspec>=0.6.2->cngi-prototype==0.0.75) (3.4.1)\n"
          ],
          "name": "stdout"
        }
      ]
    },
    {
      "cell_type": "code",
      "metadata": {
        "id": "YQjaoCTVJf5F",
        "colab": {
          "base_uri": "https://localhost:8080/"
        },
        "outputId": "9e042991-a69b-40d8-c780-4e8fcf6e955f"
      },
      "source": [
        "# Retrieve and extract demonstration datasets\n",
        "print('retrieving MS tarfiles...')\n",
        "!gdown -q --id 15HfB4rJKqEH7df088Ge5YLrCTXBIax6R\n",
        "!gdown -q --id 1N9QSs2Hbhi-BrEHx5PA54WigXt8GGgx1\n",
        "print('extracting MS tarfiles...')\n",
        "!tar -xf M100.ms.tar\n",
        "!tar -xzf sis14_twhya_calibrated_flagged.ms.tar.gz\n",
        "# TODO: download the \".flagonline.txt\" file\n",
        "print('complete')"
      ],
      "execution_count": 18,
      "outputs": [
        {
          "output_type": "stream",
          "text": [
            "retrieving MS tarfiles...\n",
            "extracting MS tarfiles...\n",
            "complete\n"
          ],
          "name": "stdout"
        }
      ]
    },
    {
      "cell_type": "markdown",
      "metadata": {
        "id": "dGtBsZgZj4sn"
      },
      "source": [
        "## Initialize the Environment\n",
        "Omitting for now. I think we don't need it here and it shouldn't show up here at the ngCASA level anyway."
      ]
    },
    {
      "cell_type": "markdown",
      "metadata": {
        "id": "GwVQyWI1jGf8"
      },
      "source": [
        "## Load demo data"
      ]
    },
    {
      "cell_type": "code",
      "metadata": {
        "id": "03C__ZipjIP0",
        "colab": {
          "base_uri": "https://localhost:8080/"
        },
        "outputId": "ea1f09f6-cc15-4740-d6c9-9e6becdf946b"
      },
      "source": [
        "from cngi.conversion import convert_ms\n",
        "\n",
        "zarr_name = 'twhya.vis.zarr' \n",
        "mxds = convert_ms('sis14_twhya_calibrated_flagged.ms', outfile=zarr_name) "
      ],
      "execution_count": 19,
      "outputs": [
        {
          "output_type": "stream",
          "text": [
            "Completed ddi 0  process time 22.39 s\n",
            "Completed subtables  process time 0.96 s\n",
            "                                                  \n"
          ],
          "name": "stdout"
        }
      ]
    },
    {
      "cell_type": "code",
      "metadata": {
        "id": "4Fp8hZsZWjJm",
        "colab": {
          "base_uri": "https://localhost:8080/",
          "height": 112
        },
        "outputId": "38f5c9ff-3857-4667-dda1-9685a59e9418"
      },
      "source": [
        "from cngi.dio import describe_vis \n",
        "# We will be working with the only SPW (xds0) present in this dataset\n",
        "vis_dset = mxds.xds0\n",
        "describe_vis(zarr_name)"
      ],
      "execution_count": 24,
      "outputs": [
        {
          "output_type": "stream",
          "text": [
            "processing partition 2 of 2\r                                                  \r"
          ],
          "name": "stdout"
        },
        {
          "output_type": "execute_result",
          "data": {
            "text/html": [
              "<div>\n",
              "<style scoped>\n",
              "    .dataframe tbody tr th:only-of-type {\n",
              "        vertical-align: middle;\n",
              "    }\n",
              "\n",
              "    .dataframe tbody tr th {\n",
              "        vertical-align: top;\n",
              "    }\n",
              "\n",
              "    .dataframe thead th {\n",
              "        text-align: right;\n",
              "    }\n",
              "</style>\n",
              "<table border=\"1\" class=\"dataframe\">\n",
              "  <thead>\n",
              "    <tr style=\"text-align: right;\">\n",
              "      <th></th>\n",
              "      <th>spw_id</th>\n",
              "      <th>pol_id</th>\n",
              "      <th>times</th>\n",
              "      <th>baselines</th>\n",
              "      <th>chans</th>\n",
              "      <th>pols</th>\n",
              "      <th>size_MB</th>\n",
              "    </tr>\n",
              "    <tr>\n",
              "      <th>xds</th>\n",
              "      <th></th>\n",
              "      <th></th>\n",
              "      <th></th>\n",
              "      <th></th>\n",
              "      <th></th>\n",
              "      <th></th>\n",
              "      <th></th>\n",
              "    </tr>\n",
              "  </thead>\n",
              "  <tbody>\n",
              "    <tr>\n",
              "      <th>xds0</th>\n",
              "      <td>0</td>\n",
              "      <td>0</td>\n",
              "      <td>410</td>\n",
              "      <td>210</td>\n",
              "      <td>384</td>\n",
              "      <td>2</td>\n",
              "      <td>1586</td>\n",
              "    </tr>\n",
              "  </tbody>\n",
              "</table>\n",
              "</div>"
            ],
            "text/plain": [
              "      spw_id  pol_id  times  baselines  chans  pols  size_MB\n",
              "xds                                                         \n",
              "xds0       0       0    410        210    384     2     1586"
            ]
          },
          "metadata": {
            "tags": []
          },
          "execution_count": 24
        }
      ]
    },
    {
      "cell_type": "markdown",
      "metadata": {
        "id": "imd3mXGWiJTx"
      },
      "source": [
        "## Flag summaries\n",
        "Summaries of flags by different dimensions in a dictionary, similar to the dictionary produce by CASA flagdata in 'summary' mode."
      ]
    },
    {
      "cell_type": "code",
      "metadata": {
        "id": "7e_Iwy2OiJ7n",
        "colab": {
          "base_uri": "https://localhost:8080/",
          "height": 392
        },
        "outputId": "7ca568e2-4de5-4744-d685-ef2521019d9d"
      },
      "source": [
        "from ngcasa.flagging import summary\n",
        "# <temporary hack>\n",
        "mxds.xds0['presence_baseline'] = mxds.xds0.DATA.notnull().any(['chan', 'pol'])\n",
        "# </temporary hack>\n",
        "# Get the initial flagging status\n",
        "counts = summary(mxds, 0)\n",
        "counts"
      ],
      "execution_count": 21,
      "outputs": [
        {
          "output_type": "error",
          "ename": "ImportError",
          "evalue": "ignored",
          "traceback": [
            "\u001b[0;31m---------------------------------------------------------------------------\u001b[0m",
            "\u001b[0;31mImportError\u001b[0m                               Traceback (most recent call last)",
            "\u001b[0;32m<ipython-input-21-bb51165bcbab>\u001b[0m in \u001b[0;36m<module>\u001b[0;34m()\u001b[0m\n\u001b[0;32m----> 1\u001b[0;31m \u001b[0;32mfrom\u001b[0m \u001b[0mngcasa\u001b[0m\u001b[0;34m.\u001b[0m\u001b[0mflagging\u001b[0m \u001b[0;32mimport\u001b[0m \u001b[0msummary\u001b[0m\u001b[0;34m\u001b[0m\u001b[0;34m\u001b[0m\u001b[0m\n\u001b[0m\u001b[1;32m      2\u001b[0m \u001b[0;31m# <temporary hack>\u001b[0m\u001b[0;34m\u001b[0m\u001b[0;34m\u001b[0m\u001b[0;34m\u001b[0m\u001b[0m\n\u001b[1;32m      3\u001b[0m \u001b[0mmxds\u001b[0m\u001b[0;34m.\u001b[0m\u001b[0mxds0\u001b[0m\u001b[0;34m[\u001b[0m\u001b[0;34m'presence_baseline'\u001b[0m\u001b[0;34m]\u001b[0m \u001b[0;34m=\u001b[0m \u001b[0mmxds\u001b[0m\u001b[0;34m.\u001b[0m\u001b[0mxds0\u001b[0m\u001b[0;34m.\u001b[0m\u001b[0mDATA\u001b[0m\u001b[0;34m.\u001b[0m\u001b[0mnotnull\u001b[0m\u001b[0;34m(\u001b[0m\u001b[0;34m)\u001b[0m\u001b[0;34m.\u001b[0m\u001b[0many\u001b[0m\u001b[0;34m(\u001b[0m\u001b[0;34m[\u001b[0m\u001b[0;34m'chan'\u001b[0m\u001b[0;34m,\u001b[0m \u001b[0;34m'pol'\u001b[0m\u001b[0;34m]\u001b[0m\u001b[0;34m)\u001b[0m\u001b[0;34m\u001b[0m\u001b[0;34m\u001b[0m\u001b[0m\n\u001b[1;32m      4\u001b[0m \u001b[0;31m# </temporary hack>\u001b[0m\u001b[0;34m\u001b[0m\u001b[0;34m\u001b[0m\u001b[0;34m\u001b[0m\u001b[0m\n\u001b[1;32m      5\u001b[0m \u001b[0;31m# Get the initial flagging status\u001b[0m\u001b[0;34m\u001b[0m\u001b[0;34m\u001b[0m\u001b[0;34m\u001b[0m\u001b[0m\n",
            "\u001b[0;31mImportError\u001b[0m: cannot import name 'summary' from 'ngcasa.flagging' (/usr/local/lib/python3.7/dist-packages/ngcasa/flagging/__init__.py)",
            "",
            "\u001b[0;31m---------------------------------------------------------------------------\u001b[0;32m\nNOTE: If your import is failing due to a missing package, you can\nmanually install dependencies using either !pip or !apt.\n\nTo view examples of installing some common dependencies, click the\n\"Open Examples\" button below.\n\u001b[0;31m---------------------------------------------------------------------------\u001b[0m\n"
          ]
        }
      ]
    },
    {
      "cell_type": "markdown",
      "metadata": {
        "id": "56u8CD6oh6-r"
      },
      "source": [
        "## Handling flag versions\n",
        "\n",
        "\n"
      ]
    },
    {
      "cell_type": "code",
      "metadata": {
        "id": "lS65GxBoiGID"
      },
      "source": [
        "from ngcasa.flagging import manager_list, manager_add, manager_remove\n",
        "print('* Printing list of flag variables - checkpoint 0:')\n",
        "versions = manager_list(vis_dset)\n",
        "print(versions)\n",
        "\n",
        "vis_flags = manager_add(vis_dset, 'start', 'flags state at start')\n",
        "# vis_flags = manual_unflag(vis_flags, [{'time': slice('2011-09-16T15:38:17','2011-10-16T18:39:50')}])\n",
        "vis_flags = manager_add(vis_flags, 'backup', 'backup description')\n",
        "#\n",
        "vis_flags = manager_add(vis_flags, 'final', 'backup second descr')\n",
        "#\n",
        "print('* Printing list - checkpoint A:')\n",
        "versions = manager_list(vis_flags)\n",
        "print(versions)\n",
        "\n",
        "# fxds['FLAG'] = fxds['FLAG_final']\n",
        "vis_flags['FLAG'] = vis_flags['FLAG_backup'] | vis_flags['FLAG_start']\n",
        "\n",
        "# We can always drop versions that are no longer useful\n",
        "vis_flags = manager_remove(vis_flags, 'start')\n",
        "vis_flags = manager_remove(vis_flags, 'backup')\n",
        "vis_flags = manager_remove(vis_flags, 'final')\n",
        "print('* Printing list - checkpoint B:')\n",
        "versions = manager_list(vis_flags)\n",
        "print(versions)\n",
        "# FLAG variables as added as regular data variables in the xarray Datasets\n",
        "# An aditional attribute (flag_variables) are added for bookkeeping\n",
        "vis_flags"
      ],
      "execution_count": null,
      "outputs": []
    },
    {
      "cell_type": "markdown",
      "metadata": {
        "id": "ArKo37PtiKZF"
      },
      "source": [
        "## Running flagging methods\n",
        "A few illustrative examples, trying to cover all the categories of flagging methods.\n",
        "\n"
      ]
    },
    {
      "cell_type": "markdown",
      "metadata": {
        "id": "gCVel9YBfODD"
      },
      "source": [
        "### Manual flagging and meta-information based methods\n",
        "Methods based on data selection and/or meta-information. Simple examples with data selection based flagging and unflagging."
      ]
    },
    {
      "cell_type": "code",
      "metadata": {
        "id": "fKW_dxITjj7F"
      },
      "source": [
        "from ngcasa.flagging import manual_flag, manual_unflag\n",
        "\n",
        "vis_dset = mxds.xds0\n",
        "#\n",
        "vis_dset = manager_add(vis_dset, 'checkpointA', 'after a couple of example manual selections')\n",
        "#\n",
        "vis_dset = manager_add(vis_dset, 'manual_sels', 'after applying a few manual flags')\n",
        "\n",
        "# unflag one antenna (not present)\n",
        "vis_partial = manual_unflag(mxds, 0, [{'antenna': 'DV01'}])\n",
        "# unflag one antenna (present)\n",
        "vis_partial = manual_unflag(mxds, 0, [{'antenna': 'DV02'}])\n",
        "# unflag all\n",
        "vis_unflagged = manual_unflag(mxds, 0, [])\n",
        "# <horror> figure out how to deal with return mxds (use cngi._utils._io.vis_xds_packager?)\n",
        "mxds.xds0['FLAG'] = vis_unflagged['FLAG']\n",
        "# </horror>\n",
        "counts = summary(mxds, 0)\n",
        "print('* Flags after unflagging:')\n",
        "counts"
      ],
      "execution_count": null,
      "outputs": []
    },
    {
      "cell_type": "code",
      "metadata": {
        "id": "RsE6eyO7iB6c"
      },
      "source": [
        "from cngi.vis import applyflags\n",
        "from cngi.vis import visplot\n",
        "flagged_manual = applyflags(vis_dset, flags=['FLAG'])\n",
        "plot_axes = ['time', 'chan']\n",
        "visplot(flagged_manual.DATA, plot_axes)\n",
        "visplot(vis_dset.DATA, plot_axes)\n"
      ],
      "execution_count": null,
      "outputs": []
    },
    {
      "cell_type": "markdown",
      "metadata": {
        "id": "yqyM61V4fTTc"
      },
      "source": [
        "### Manual flagging with command lists\n",
        "An example of application of a list of manual flagging commands, resembling use cases from pipelines. An additional required input is the file of flagging commands. Here we use a `.flagonline.txt` file as used in pipelines, where we usually find of the order of 1000s or 10s of thousands of commands. The `.flagonline.txt` is the lion's share of the full list of commands used by pipelines (`.flagcmds.txt`), where the `.flagonline.txt` list of commands is extended with a much shorter list of additional commands that may include a number of summaries, selections based on intent and frequency, the shadow method, etc.\n",
        "\n",
        "The selection syntax used is the Xarray selection syntax (see examples in the [Visibilities walkthrough ](visibilities.ipynb)), with selection by label `xds.sel(...)`."
      ]
    },
    {
      "cell_type": "code",
      "metadata": {
        "id": "7q-s9V0pxuwv"
      },
      "source": [
        "vis_flags = manual_unflag(mxds, 0, [{'time': slice('2011-09-16T15:38:17','2011-10-16T18:39:50')}])\n",
        "#\n",
        "vis_flags = manual_unflag(mxds, 0, [{}])\n",
        "\n",
        "# Flag two groups of adjacent ~20 chans\n",
        "vis_flags = manual_flag(mxds, 0, [{'chan': slice(3.7266e11, 3.7271e11)}, \n",
        "                                  {'chan': slice(3.7276e9, 3.728e11)}])\n",
        "\n",
        "# Flag some baselines, by ID\n",
        "vis_flags = manual_flag(mxds, 0, [{'baseline': [133, 134, 135]}])\n",
        "# Flag polarization, by ID\n",
        "vis_flgs = manual_flag(mxds, 0, [{'pol': 9}])\n",
        "\n",
        "# vis_dset = manual_flag(vis_dset, cmdfile='.flagonline.txt')\n",
        "vis_flags = manager_add(vis_flags, 'manual_list', 'after applying list of selection commands')\n",
        "\n",
        "\n",
        "# <horror> figure out how to deal with return mxds (use cngi._utils._io.vis_xds_packager?)\n",
        "mxds.xds0['FLAG'] = vis_flags['FLAG']\n",
        "# </horror>\n",
        "print('* Printing list - after flagging:')\n",
        "versions = manager_list(vis_flags)\n",
        "print(versions)\n",
        "\n",
        "# vis_flags = manual_flag(mxds, 0, cmd_filename='short_twhya.flagonline.txt')\n",
        "\n",
        "print('* Flags after flagging some channels and baselines:')\n",
        "counts = summary(mxds, 0)\n",
        "print(counts)"
      ],
      "execution_count": null,
      "outputs": []
    },
    {
      "cell_type": "markdown",
      "metadata": {
        "id": "SPCYXHzYfXKi"
      },
      "source": [
        "### Auto-flagging methods\n",
        "An illustrative example using the `auto_clip` method. Other auto-flagging methods such as tfcrop, rflag, and uvbin are not implemented."
      ]
    },
    {
      "cell_type": "code",
      "metadata": {
        "id": "z_uKH64_l54l"
      },
      "source": [
        "from ngcasa.flagging import auto_clip\n",
        "# \n",
        "# vis_dset = manager_add(vis_dset, 'auto_clip_test1', 'after applying clip')\n",
        "versions = manager_list(vis_dset)\n",
        "print(versions)\n",
        "\n",
        "vis_clip = auto_clip(vis_dset, 10, 35)\n",
        "# <horror> figure out how to deal with return mxds (use cngi._utils._io.vis_xds_packager?)\n",
        "mxds.xds0['FLAG'] = vis_clip['FLAG']\n",
        "# </horror>\n",
        "counts_clip = summary(mxds, 0)\n",
        "print(counts_clip)\n",
        "\n",
        "flagged_clip = applyflags(vis_clip, flags=['FLAG'])\n",
        "plot_axes = ['time', 'chan']\n",
        "visplot(flagged_clip.DATA, plot_axes)"
      ],
      "execution_count": null,
      "outputs": []
    },
    {
      "cell_type": "markdown",
      "metadata": {
        "id": "8jVF8gAtZU2Y"
      },
      "source": [
        "## Applying flags\n",
        "To apply a version of flags on a visibilities dataset, before going on to further processing, the function `cngi.vis.applyflags` should be applied. Some examples can be found in the [Continuum Imaging Example](imaging/continuum_imaging_example.ipynb) or the [Visibilities walkthrough](visibilities.ipynb). `cngi.vis.applyflags` sets the flagged data values to NaN. This has the effect that those NaN values are effectively excluded from subsequent CNGI/ngCASA processing. Other components of CNGI and ngCASA, such as imaging, will ignore those NaN values."
      ]
    },
    {
      "cell_type": "code",
      "metadata": {
        "id": "JHSr1JxOiUeF"
      },
      "source": [
        "from cngi.vis import applyflags\n",
        "from cngi.vis import visplot\n",
        "\n",
        "versions = manager_list(vis_dset)\n",
        "versions\n",
        "\n",
        "plot_coords = ['time', 'chan']\n",
        "visplot(vis_dset.DATA, plot_coords)\n",
        "vis_dataset_flagged = applyflags(vis_dset, flags=['FLAG'])\n",
        "# Further processing: visualization, calibration, imaging, etc. with flags applied (flagged data excluded)\n",
        "# ...\n",
        "\n",
        "#flagged_manual = applyflags(vis_dset, flags=['FLAG_MANUAL_LIST'])\n",
        "#visplot(flagged_manual.DATA, plot_coords)\n",
        "\n",
        "#flagged_clip = applyflags(vis_dset, flags=['FLAG_AUTO_CLIP'])\n",
        "#visplot(flagged_clip.DATA, plot_coords)"
      ],
      "execution_count": null,
      "outputs": []
    },
    {
      "cell_type": "code",
      "metadata": {
        "id": "apmRsf0CiB6q"
      },
      "source": [
        ""
      ],
      "execution_count": null,
      "outputs": []
    }
  ]
}