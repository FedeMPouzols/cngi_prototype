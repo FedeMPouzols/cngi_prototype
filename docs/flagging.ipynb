{
 "cells": [
  {
   "cell_type": "markdown",
   "metadata": {
    "id": "aQ2HVIc9VmfB"
   },
   "source": [
    "# Flagging\n",
    "\n",
    "Demonstration of prototype ngCASA flagging functions. This is work in progress."
   ]
  },
  {
   "cell_type": "markdown",
   "metadata": {
    "id": "2Dm7K1G0iWX_"
   },
   "source": [
    "This walkthrough is designed to be run in a Jupyter notebook on Google Colaboratory. To open the notebook in colab, go [here](https://colab.research.google.com/github/FedeMPouzols/cngi_prototype/blob/ngcasa_flagging_experiments/docs/flagging.ipynb)\n",
    "\n"
   ]
  },
  {
   "cell_type": "markdown",
   "metadata": {
    "id": "6jAvLRNvJlW4"
   },
   "source": [
    "## Get required packages and data"
   ]
  },
  {
   "cell_type": "code",
   "execution_count": 1,
   "metadata": {
    "id": "ipEauu1Jh4xJ"
   },
   "outputs": [
    {
     "name": "stdout",
     "output_type": "stream",
     "text": [
      "installing casa6 + cngi (takes a minute or two)...\n"
     ]
    },
    {
     "data": {
      "text/plain": [
       "0"
      ]
     },
     "execution_count": 1,
     "metadata": {},
     "output_type": "execute_result"
    }
   ],
   "source": [
    "# Installation\n",
    "import os\n",
    "# (WIP note: we might get by without casatools, if we prepare some .vis.zarr available for download re-check)\n",
    "print(\"installing casa6 + cngi (takes a minute or two)...\")\n",
    "os.system(\"apt-get install libgfortran3\")\n",
    "os.system(\"pip install --index-url https://casa-pip.nrao.edu/repository/pypi-casa-release/simple casatools==6.1.0.118\")\n",
    "\n",
    "os.system(\"pip install cngi-prototype==0.0.67\")"
   ]
  },
  {
   "cell_type": "code",
   "execution_count": 2,
   "metadata": {
    "id": "YQjaoCTVJf5F"
   },
   "outputs": [
    {
     "name": "stdout",
     "output_type": "stream",
     "text": [
      "retrieving MS tarfiles...\n",
      "extracting MS tarfiles...\n",
      "complete\n"
     ]
    }
   ],
   "source": [
    "# Retrieve and extract demonstration datasets\n",
    "print('retrieving MS tarfiles...')\n",
    "!gdown -q --id 15HfB4rJKqEH7df088Ge5YLrCTXBIax6R\n",
    "!gdown -q --id 1N9QSs2Hbhi-BrEHx5PA54WigXt8GGgx1\n",
    "print('extracting MS tarfiles...')\n",
    "!tar -xf M100.ms.tar\n",
    "!tar -xzf sis14_twhya_calibrated_flagged.ms.tar.gz\n",
    "# TODO: download the \".flagonline.txt\" file\n",
    "print('complete')"
   ]
  },
  {
   "cell_type": "markdown",
   "metadata": {
    "id": "dGtBsZgZj4sn"
   },
   "source": [
    "## Initialize the Environment\n",
    "Omitting for now. I think we don't need it here and it shouldn't show up here at the ngCASA level anyway."
   ]
  },
  {
   "cell_type": "markdown",
   "metadata": {
    "id": "GwVQyWI1jGf8"
   },
   "source": [
    "## Load demo data"
   ]
  },
  {
   "cell_type": "code",
   "execution_count": 9,
   "metadata": {
    "id": "03C__ZipjIP0"
   },
   "outputs": [
    {
     "name": "stdout",
     "output_type": "stream",
     "text": [
      "Completed ddi 0  process time 9.01 sremaining time est 0 s                  \n",
      "Empty Subtable: POINTINGf 20 : POINTINGE...                        \n",
      "Empty Subtable: SYSCAL of 20 : SYSCAL                              \n",
      "Empty Subtable: SYSPOWERf 20 : SYSPOWER\n",
      "Completed subtables  process time 1.04 sPOSITION...                    \n",
      "                                                  \n"
     ]
    }
   ],
   "source": [
    "from cngi.conversion import convert_ms\n",
    "\n",
    "zarr_name = 'twhya.vis.zarr' \n",
    "mxds = convert_ms('sis14_twhya_calibrated_flagged.ms', outfile=zarr_name) "
   ]
  },
  {
   "cell_type": "code",
   "execution_count": 10,
   "metadata": {
    "id": "4Fp8hZsZWjJm"
   },
   "outputs": [
    {
     "name": "stdout",
     "output_type": "stream",
     "text": [
      "processing partition 2 of 2\r",
      "                                                  \r"
     ]
    }
   ],
   "source": [
    "from cngi.dio import describe_vis \n",
    "describe_vis(zarr_name)\n",
    "# We will be working with the only SPW present in this dataset\n",
    "vis_dset = mxds.xds0"
   ]
  },
  {
   "cell_type": "markdown",
   "metadata": {
    "id": "imd3mXGWiJTx"
   },
   "source": [
    "## Flag summaries\n",
    "Summaries of flags by different dimensions in a dictionary, similar to the dictionary produce by CASA flagdata in 'summary' mode."
   ]
  },
  {
   "cell_type": "code",
   "execution_count": 13,
   "metadata": {
    "id": "7e_Iwy2OiJ7n"
   },
   "outputs": [
    {
     "data": {
      "text/plain": [
       "{'correlation': {'XX': {'flagged': 22800, 'total': 30936192},\n",
       "  'YY': {'flagged': 22800, 'total': 30936192}},\n",
       " 'total': 61872384,\n",
       " 'flagged': 45600,\n",
       " 'array': {'0': {'flagged': 45600, 'total': 61872384}},\n",
       " 'scan': {'4': {'flagged': 0, 'total': 3225600},\n",
       "  '7': {'flagged': 45600, 'total': 2918400},\n",
       "  '10': {'flagged': 0, 'total': 1459200},\n",
       "  '12': {'flagged': 0, 'total': 6538752},\n",
       "  '14': {'flagged': 0, 'total': 1459200},\n",
       "  '16': {'flagged': 0, 'total': 7956480},\n",
       "  '18': {'flagged': 0, 'total': 1612800},\n",
       "  '20': {'flagged': 0, 'total': 7926528},\n",
       "  '22': {'flagged': 0, 'total': 1612800},\n",
       "  '24': {'flagged': 0, 'total': 7928832},\n",
       "  '26': {'flagged': 0, 'total': 1612800},\n",
       "  '28': {'flagged': 0, 'total': 7266816},\n",
       "  '30': {'flagged': 0, 'total': 1459200},\n",
       "  '33': {'flagged': 0, 'total': 2612736},\n",
       "  '34': {'flagged': 0, 'total': 1459200},\n",
       "  '36': {'flagged': 0, 'total': 3210240},\n",
       "  '38': {'flagged': 0, 'total': 1612800}},\n",
       " 'observation': {'0': {'flagged': 45600, 'total': 61872384}},\n",
       " 'field': {'J0522-364': {'flagged': 0, 'total': 3225600},\n",
       "  'Ceres': {'flagged': 45600, 'total': 2918400},\n",
       "  'J1037-295': {'flagged': 0, 'total': 12288000},\n",
       "  'TW Hya': {'flagged': 0, 'total': 40827648},\n",
       "  '3c279': {'flagged': 0, 'total': 2612736}},\n",
       " 'antenna': {'DA42': {'flagged': 4560, 'total': 5763072},\n",
       "  'DA44': {'flagged': 4560, 'total': 6081792},\n",
       "  'DA45': {'flagged': 4560, 'total': 6067200},\n",
       "  'DA46': {'flagged': 4560, 'total': 6067200},\n",
       "  'DA48': {'flagged': 4560, 'total': 6067200},\n",
       "  'DA49': {'flagged': 4560, 'total': 6067200},\n",
       "  'DA50': {'flagged': 4560, 'total': 6067200},\n",
       "  'DV02': {'flagged': 4560, 'total': 6040320},\n",
       "  'DV05': {'flagged': 4560, 'total': 6040320},\n",
       "  'DV06': {'flagged': 4560, 'total': 6081792},\n",
       "  'DV08': {'flagged': 4560, 'total': 6068736},\n",
       "  'DV10': {'flagged': 4560, 'total': 6054144},\n",
       "  'DV13': {'flagged': 4560, 'total': 6039552},\n",
       "  'DV15': {'flagged': 4560, 'total': 6053376},\n",
       "  'DV16': {'flagged': 4560, 'total': 6081792},\n",
       "  'DV17': {'flagged': 4560, 'total': 6039552},\n",
       "  'DV18': {'flagged': 4560, 'total': 6067200},\n",
       "  'DV19': {'flagged': 0, 'total': 4808448},\n",
       "  'DV20': {'flagged': 4560, 'total': 4757760},\n",
       "  'DV22': {'flagged': 4560, 'total': 6053376},\n",
       "  'DV23': {'flagged': 4560, 'total': 5377536}}}"
      ]
     },
     "execution_count": 13,
     "metadata": {},
     "output_type": "execute_result"
    }
   ],
   "source": [
    "from ngcasa.flagging import summary\n",
    "# <temporary hack>\n",
    "mxds.xds0['presence_baseline'] = mxds.xds0.DATA.notnull().any(['chan', 'pol'])\n",
    "# </temporary hack>\n",
    "counts = summary(mxds, 0)\n",
    "counts"
   ]
  },
  {
   "cell_type": "markdown",
   "metadata": {
    "id": "56u8CD6oh6-r"
   },
   "source": [
    "## Handling flag versions\n",
    "\n",
    "\n"
   ]
  },
  {
   "cell_type": "code",
   "execution_count": 17,
   "metadata": {
    "id": "lS65GxBoiGID"
   },
   "outputs": [
    {
     "name": "stdout",
     "output_type": "stream",
     "text": [
      "* Printing list of flag variables - checkpoint 0:\n",
      "  Flag variable name             Description\n",
      "0               FLAG  Default flags variable\n",
      "* Printing list - checkpoint A:\n",
      "  Flag variable name             Description\n",
      "0               FLAG  Default flags variable\n",
      "1         FLAG_start    flags state at start\n",
      "2        FLAG_backup      backup description\n",
      "3         FLAG_final     backup second descr\n",
      "* Printing list - checkpoint B:\n",
      "  Flag variable name             Description\n",
      "0               FLAG  Default flags variable\n"
     ]
    }
   ],
   "source": [
    "from ngcasa.flagging import manager_list, manager_add, manager_remove\n",
    "print('* Printing list of flag variables - checkpoint 0:')\n",
    "versions = manager_list(vis_dset)\n",
    "print(versions)\n",
    "\n",
    "vis_flags = manager_add(vis_dset, 'start', 'flags state at start')\n",
    "# vis_flags = manual_unflag(vis_flags, [{'time': slice('2011-09-16T15:38:17','2011-10-16T18:39:50')}])\n",
    "vis_flags = manager_add(vis_flags, 'backup', 'backup description')\n",
    "#\n",
    "vis_flags = manager_add(vis_flags, 'final', 'backup second descr')\n",
    "#\n",
    "print('* Printing list - checkpoint A:')\n",
    "versions = manager_list(vis_flags)\n",
    "print(versions)\n",
    "\n",
    "# fxds['FLAG'] = fxds['FLAG_final']\n",
    "vis_flags['FLAG'] = vis_flags['FLAG_backup'] | vis_flags['FLAG_start']\n",
    "\n",
    "# We can always drop versions that are no longer useful\n",
    "vis_flags = manager_remove(vis_flags, 'start')\n",
    "vis_flags = manager_remove(vis_flags, 'backup')\n",
    "vis_flags = manager_remove(vis_flags, 'final')\n",
    "print('* Printing list - checkpoint B:')\n",
    "versions = manager_list(vis_flags)\n",
    "print(versions)"
   ]
  },
  {
   "cell_type": "markdown",
   "metadata": {
    "id": "ArKo37PtiKZF"
   },
   "source": [
    "## Running flagging methods\n",
    "A few illustrative examples, trying to cover all the categories of flagging methods.\n",
    "\n"
   ]
  },
  {
   "cell_type": "markdown",
   "metadata": {
    "id": "gCVel9YBfODD"
   },
   "source": [
    "### Manual flagging and meta-information based methods\n",
    "Methods based on data selection and/or meta-information. Simple examples with data selection based flagging and unflagging."
   ]
  },
  {
   "cell_type": "code",
   "execution_count": 20,
   "metadata": {
    "id": "fKW_dxITjj7F"
   },
   "outputs": [
    {
     "ename": "TypeError",
     "evalue": "manual_unflag() missing 1 required positional argument: 'commands'",
     "output_type": "error",
     "traceback": [
      "\u001b[0;31m---------------------------------------------------------------------------\u001b[0m",
      "\u001b[0;31mTypeError\u001b[0m                                 Traceback (most recent call last)",
      "\u001b[0;32m<ipython-input-20-9e219aabe9c5>\u001b[0m in \u001b[0;36m<module>\u001b[0;34m\u001b[0m\n\u001b[1;32m      7\u001b[0m \u001b[0mvis_dset\u001b[0m \u001b[0;34m=\u001b[0m \u001b[0mmanager_add\u001b[0m\u001b[0;34m(\u001b[0m\u001b[0mvis_dset\u001b[0m\u001b[0;34m,\u001b[0m \u001b[0;34m'manual_sels'\u001b[0m\u001b[0;34m,\u001b[0m \u001b[0;34m'after applying a few manual flags'\u001b[0m\u001b[0;34m)\u001b[0m\u001b[0;34m\u001b[0m\u001b[0m\n\u001b[1;32m      8\u001b[0m \u001b[0;34m\u001b[0m\u001b[0m\n\u001b[0;32m----> 9\u001b[0;31m \u001b[0mvis_unflagged\u001b[0m \u001b[0;34m=\u001b[0m \u001b[0mmanual_unflag\u001b[0m\u001b[0;34m(\u001b[0m\u001b[0mmxds\u001b[0m\u001b[0;34m,\u001b[0m \u001b[0;36m0\u001b[0m\u001b[0;34m)\u001b[0m\u001b[0;34m\u001b[0m\u001b[0m\n\u001b[0m\u001b[1;32m     10\u001b[0m \u001b[0;31m# <horror> figure out how to deal with return mxds (use cngi._utils._io.vis_xds_packager?)\u001b[0m\u001b[0;34m\u001b[0m\u001b[0;34m\u001b[0m\u001b[0m\n\u001b[1;32m     11\u001b[0m \u001b[0mmxds\u001b[0m\u001b[0;34m.\u001b[0m\u001b[0mxds0\u001b[0m\u001b[0;34m[\u001b[0m\u001b[0;34m'FLAG'\u001b[0m\u001b[0;34m]\u001b[0m \u001b[0;34m=\u001b[0m \u001b[0mvis_unflagged\u001b[0m\u001b[0;34m[\u001b[0m\u001b[0;34m'FLAG'\u001b[0m\u001b[0;34m]\u001b[0m\u001b[0;34m\u001b[0m\u001b[0m\n",
      "\u001b[0;31mTypeError\u001b[0m: manual_unflag() missing 1 required positional argument: 'commands'"
     ]
    }
   ],
   "source": [
    "from ngcasa.flagging import manual_flag, manual_unflag\n",
    "\n",
    "vis_dset = mxds.xds0\n",
    "#\n",
    "vis_dset = manager_add(vis_dset, 'checkpointA', 'after a couple of example manual selections')\n",
    "#\n",
    "vis_dset = manager_add(vis_dset, 'manual_sels', 'after applying a few manual flags')\n",
    "\n",
    "vis_unflagged = manual_unflag(mxds, 0)\n",
    "# <horror> figure out how to deal with return mxds (use cngi._utils._io.vis_xds_packager?)\n",
    "mxds.xds0['FLAG'] = vis_unflagged['FLAG']\n",
    "# </horror>\n",
    "counts = summary(mxds, 0)\n",
    "print('After unflagging: {}'.format(counts))\n",
    "\n",
    "flagged_manual = applyflags(vis_dset, flags=['FLAG'])\n",
    "visplot(flagged_manual.DATA, plot_axes)"
   ]
  },
  {
   "cell_type": "markdown",
   "metadata": {
    "id": "yqyM61V4fTTc"
   },
   "source": [
    "### Manual flagging with command lists\n",
    "An example of application of a list of manual flagging commands, resembling use cases from pipelines. An additional required input is the file of flagging commands. Here we use a `.flagonline.txt` file as used in pipelines, where we usually find of the order of 1000s or 10s of thousands of commands. The `.flagonline.txt` is the lion's share of the full list of commands used by pipelines (`.flagcmds.txt`), where the `.flagonline.txt` list of commands is extended with a much shorter list of additional commands that may include a number of summaries, selections based on intent and frequency, the shadow method, etc.\n",
    "\n",
    "The selection syntax used is the Xarray selection syntax (see examples in the [Visibilities walkthrough ](visibilities.ipynb)), with selection by label `xds.sel(...)`."
   ]
  },
  {
   "cell_type": "code",
   "execution_count": 28,
   "metadata": {
    "id": "7q-s9V0pxuwv"
   },
   "outputs": [
    {
     "name": "stdout",
     "output_type": "stream",
     "text": [
      " *** Going for cmd: {'time': slice('2011-09-16T15:38:17', '2011-10-16T18:39:50', None)}, selection: {'time': slice(numpy.datetime64('2011-09-16T15:38:17'), numpy.datetime64('2011-10-16T18:39:50'), None)}\n",
      "WARNING: selection results in 0 shape. Sel: {'time': slice(numpy.datetime64('2011-09-16T15:38:17'), numpy.datetime64('2011-10-16T18:39:50'), None)}. Shape: (0, 210, 384, 2)\n",
      " *** Going for cmd: {}, selection: {}\n"
     ]
    },
    {
     "ename": "NameError",
     "evalue": "name 'chan' is not defined",
     "output_type": "error",
     "traceback": [
      "\u001b[0;31m---------------------------------------------------------------------------\u001b[0m",
      "\u001b[0;31mNameError\u001b[0m                                 Traceback (most recent call last)",
      "\u001b[0;32m<ipython-input-28-6310e9fda29b>\u001b[0m in \u001b[0;36m<module>\u001b[0;34m\u001b[0m\n\u001b[1;32m      5\u001b[0m \u001b[0;31m# Flag two groups of adjacent ~20 chans\u001b[0m\u001b[0;34m\u001b[0m\u001b[0;34m\u001b[0m\u001b[0m\n\u001b[1;32m      6\u001b[0m vis_flags = manual_flag(mxds, 0, [{'chan': slice(113.8e9, 113.95e9)}, \n\u001b[0;32m----> 7\u001b[0;31m                                   {'chan': slice(115.0e9, 115.16e9)}])\n\u001b[0m\u001b[1;32m      8\u001b[0m \u001b[0;34m\u001b[0m\u001b[0m\n\u001b[1;32m      9\u001b[0m \u001b[0;31m# Flag some baselines, by ID\u001b[0m\u001b[0;34m\u001b[0m\u001b[0;34m\u001b[0m\u001b[0m\n",
      "\u001b[0;32m/scratch/venv_cngi_pip/lib64/python3.6/site-packages/ngcasa/flagging/manual_flag.py\u001b[0m in \u001b[0;36mmanual_flag\u001b[0;34m(mxds, xds_idx, commands, cmd_filename)\u001b[0m\n\u001b[1;32m     49\u001b[0m                            f\"command list is: {commands}. File is: {cmd_filename}\")\n\u001b[1;32m     50\u001b[0m     \u001b[0mxds\u001b[0m \u001b[0;34m=\u001b[0m \u001b[0mmxds\u001b[0m\u001b[0;34m.\u001b[0m\u001b[0mattrs\u001b[0m\u001b[0;34m[\u001b[0m\u001b[0;34m'xds'\u001b[0m \u001b[0;34m+\u001b[0m \u001b[0;34m'{}'\u001b[0m\u001b[0;34m.\u001b[0m\u001b[0mformat\u001b[0m\u001b[0;34m(\u001b[0m\u001b[0mxds_idx\u001b[0m\u001b[0;34m)\u001b[0m\u001b[0;34m]\u001b[0m\u001b[0;34m\u001b[0m\u001b[0m\n\u001b[0;32m---> 51\u001b[0;31m     \u001b[0;32mreturn\u001b[0m \u001b[0m_manual_with_reindex_like\u001b[0m\u001b[0;34m(\u001b[0m\u001b[0mmxds\u001b[0m\u001b[0;34m,\u001b[0m \u001b[0mxds\u001b[0m\u001b[0;34m,\u001b[0m \u001b[0mall_cmds\u001b[0m\u001b[0;34m)\u001b[0m\u001b[0;34m\u001b[0m\u001b[0m\n\u001b[0m\u001b[1;32m     52\u001b[0m \u001b[0;34m\u001b[0m\u001b[0m\n\u001b[1;32m     53\u001b[0m \u001b[0;34m\u001b[0m\u001b[0m\n",
      "\u001b[0;32m/scratch/venv_cngi_pip/lib64/python3.6/site-packages/ngcasa/flagging/manual_flag.py\u001b[0m in \u001b[0;36m_manual_with_reindex_like\u001b[0;34m(mxds, xds, cmds)\u001b[0m\n\u001b[1;32m     56\u001b[0m     \u001b[0mret_xds\u001b[0m \u001b[0;34m=\u001b[0m \u001b[0mxds\u001b[0m\u001b[0;34m.\u001b[0m\u001b[0massign\u001b[0m\u001b[0;34m(\u001b[0m\u001b[0;34m)\u001b[0m\u001b[0;34m\u001b[0m\u001b[0m\n\u001b[1;32m     57\u001b[0m     \u001b[0;32mfor\u001b[0m \u001b[0mcmd\u001b[0m \u001b[0;32min\u001b[0m \u001b[0mcmds\u001b[0m\u001b[0;34m:\u001b[0m\u001b[0;34m\u001b[0m\u001b[0m\n\u001b[0;32m---> 58\u001b[0;31m         \u001b[0mselection\u001b[0m \u001b[0;34m=\u001b[0m \u001b[0m_parse_sel_cmd\u001b[0m\u001b[0;34m(\u001b[0m\u001b[0mmxds\u001b[0m\u001b[0;34m,\u001b[0m \u001b[0mxds\u001b[0m\u001b[0;34m,\u001b[0m \u001b[0mcmd\u001b[0m\u001b[0;34m)\u001b[0m\u001b[0;34m\u001b[0m\u001b[0m\n\u001b[0m\u001b[1;32m     59\u001b[0m         \u001b[0mfsel\u001b[0m \u001b[0;34m=\u001b[0m \u001b[0mxds\u001b[0m\u001b[0;34m[\u001b[0m\u001b[0mflag_var\u001b[0m\u001b[0;34m]\u001b[0m\u001b[0;34m.\u001b[0m\u001b[0msel\u001b[0m\u001b[0;34m(\u001b[0m\u001b[0mselection\u001b[0m\u001b[0;34m)\u001b[0m\u001b[0;34m\u001b[0m\u001b[0m\n\u001b[1;32m     60\u001b[0m         \u001b[0;32mif\u001b[0m \u001b[0;36m0\u001b[0m \u001b[0;32min\u001b[0m \u001b[0mfsel\u001b[0m\u001b[0;34m.\u001b[0m\u001b[0mshape\u001b[0m\u001b[0;34m:\u001b[0m\u001b[0;34m\u001b[0m\u001b[0m\n",
      "\u001b[0;32m/scratch/venv_cngi_pip/lib64/python3.6/site-packages/ngcasa/flagging/_flagging_utils/_parse_sel_cmd.py\u001b[0m in \u001b[0;36m_parse_sel_cmd\u001b[0;34m(mxds, xds, cmd)\u001b[0m\n\u001b[1;32m     35\u001b[0m \u001b[0;34m\u001b[0m\u001b[0m\n\u001b[1;32m     36\u001b[0m     \u001b[0;32mif\u001b[0m \u001b[0;34m'chan'\u001b[0m \u001b[0;32min\u001b[0m \u001b[0mcmd\u001b[0m\u001b[0;34m:\u001b[0m\u001b[0;34m\u001b[0m\u001b[0m\n\u001b[0;32m---> 37\u001b[0;31m         \u001b[0mresult\u001b[0m\u001b[0;34m[\u001b[0m\u001b[0;34m'chan'\u001b[0m\u001b[0;34m]\u001b[0m \u001b[0;34m=\u001b[0m \u001b[0mchan\u001b[0m\u001b[0;34m\u001b[0m\u001b[0m\n\u001b[0m\u001b[1;32m     38\u001b[0m \u001b[0;34m\u001b[0m\u001b[0m\n\u001b[1;32m     39\u001b[0m     \u001b[0;32mif\u001b[0m \u001b[0;34m'pol'\u001b[0m\u001b[0;32min\u001b[0m \u001b[0mcmd\u001b[0m\u001b[0;34m:\u001b[0m\u001b[0;34m\u001b[0m\u001b[0m\n",
      "\u001b[0;31mNameError\u001b[0m: name 'chan' is not defined"
     ]
    }
   ],
   "source": [
    "vis_flags = manual_unflag(mxds, 0, [{'time': slice('2011-09-16T15:38:17','2011-10-16T18:39:50')}])\n",
    "#\n",
    "vis_flags = manual_unflag(mxds, 0, [{}])\n",
    "\n",
    "# Flag two groups of adjacent ~20 chans\n",
    "vis_flags = manual_flag(mxds, 0, [{'chan': slice(113.8e9, 113.95e9)}, \n",
    "                                  {'chan': slice(115.0e9, 115.16e9)}])\n",
    "\n",
    "# Flag some baselines, by ID\n",
    "vis_flags = manual_flag(mxds, 0, [{'baseline': [133, 134, 135]}])\n",
    "# Flag polarization, by ID\n",
    "# vis_flgs = manual_flag(vis_flags, [{'pol': 9}])\n",
    "\n",
    "# vis_dset = manual_flag(vis_dset, cmdfile='.flagonline.txt')\n",
    "vis_flags = manager_add(vis_flags, 'manual_list', 'after applying list of selection commands')"
   ]
  },
  {
   "cell_type": "markdown",
   "metadata": {
    "id": "SPCYXHzYfXKi"
   },
   "source": [
    "### Auto-flagging methods\n",
    "An illustrative example using the `auto_clip` method. Other auto-flagging methods such as tfcrop, rflag, and uvbin are not implemented."
   ]
  },
  {
   "cell_type": "code",
   "execution_count": 31,
   "metadata": {
    "id": "z_uKH64_l54l"
   },
   "outputs": [
    {
     "name": "stdout",
     "output_type": "stream",
     "text": [
      "    Flag variable name                                  Description\n",
      "0                 FLAG                       Default flags variable\n",
      "1     FLAG_checkpointA  after a couple of example manual selections\n",
      "2     FLAG_manual_sels            after applying a few manual flags\n",
      "3       FLAG_auto_clip                          after applying clip\n",
      "4  FLAG_auto_clip_test                          after applying clip\n"
     ]
    }
   ],
   "source": [
    "from ngcasa.flagging import auto_clip\n",
    "# \n",
    "vis_dset = manager_add(vis_dset, 'auto_clip_test', 'after applying clip')\n",
    "versions = manager_list(vis_dset)\n",
    "print(versions)"
   ]
  },
  {
   "cell_type": "markdown",
   "metadata": {
    "id": "8jVF8gAtZU2Y"
   },
   "source": [
    "## Applying flags\n",
    "To apply a version of flags on a visibilities dataset, before going on to further processing, the function `cngi.vis.applyflags` should be applied. Some examples can be found in the [Continuum Imaging Example](imaging/continuum_imaging_example.ipynb) or the [Visibilities walkthrough](visibilities.ipynb). `cngi.vis.applyflags` sets the flagged data values to NaN. This has the effect that those NaN values are effectively excluded from subsequent CNGI/ngCASA processing. Other components of CNGI and ngCASA, such as imaging, will ignore those NaN values."
   ]
  },
  {
   "cell_type": "code",
   "execution_count": 36,
   "metadata": {
    "id": "JHSr1JxOiUeF"
   },
   "outputs": [
    {
     "data": {
      "image/png": "[encoded data removed]",
      "text/plain": [
       "<Figure size 432x288 with 2 Axes>"
      ]
     },
     "metadata": {
      "needs_background": "light"
     },
     "output_type": "display_data"
    }
   ],
   "source": [
    "from cngi.vis import applyflags\n",
    "from cngi.vis import visplot\n",
    "\n",
    "versions = manager_list(vis_dset)\n",
    "versions\n",
    "\n",
    "plot_coords = ['time', 'chan']\n",
    "visplot(vis_dset.DATA, plot_coords)\n",
    "vis_dataset_flagged = applyflags(vis_dset, flags=['FLAG'])\n",
    "# Further processing: visualization, calibration, imaging, etc. with flags applied (flagged data excluded)\n",
    "# ...\n",
    "\n",
    "#flagged_manual = applyflags(vis_dset, flags=['FLAG_MANUAL_LIST'])\n",
    "#visplot(flagged_manual.DATA, plot_coords)\n",
    "\n",
    "#flagged_clip = applyflags(vis_dset, flags=['FLAG_AUTO_CLIP'])\n",
    "#visplot(flagged_clip.DATA, plot_coords)"
   ]
  }
 ],
 "metadata": {
  "celltoolbar": "Edit Metadata",
  "colab": {
   "collapsed_sections": [],
   "name": "flagging.ipynb",
   "provenance": [],
   "toc_visible": true
  },
  "kernelspec": {
   "display_name": "Python 3",
   "language": "python",
   "name": "python3"
  },
  "language_info": {
   "codemirror_mode": {
    "name": "ipython",
    "version": 3
   },
   "file_extension": ".py",
   "mimetype": "text/x-python",
   "name": "python",
   "nbconvert_exporter": "python",
   "pygments_lexer": "ipython3",
   "version": "3.6.3"
  }
 },
 "nbformat": 4,
 "nbformat_minor": 1
}
