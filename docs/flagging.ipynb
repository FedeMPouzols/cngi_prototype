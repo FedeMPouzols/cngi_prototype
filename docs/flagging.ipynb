{
  "nbformat": 4,
  "nbformat_minor": 0,
  "metadata": {
    "celltoolbar": "Edit Metadata",
    "colab": {
      "name": "flagging.ipynb",
      "provenance": [],
      "collapsed_sections": [],
      "toc_visible": true
    },
    "kernelspec": {
      "display_name": "Python 3",
      "language": "python",
      "name": "python3"
    },
    "language_info": {
      "codemirror_mode": {
        "name": "ipython",
        "version": 3
      },
      "file_extension": ".py",
      "mimetype": "text/x-python",
      "name": "python",
      "nbconvert_exporter": "python",
      "pygments_lexer": "ipython3",
      "version": "3.6.3"
    }
  },
  "cells": [
    {
      "cell_type": "markdown",
      "metadata": {
        "id": "aQ2HVIc9VmfB"
      },
      "source": [
        "# Flagging\n",
        "\n",
        "Demonstration of prototype ngCASA flagging functions. This is work in progress."
      ]
    },
    {
      "cell_type": "markdown",
      "metadata": {
        "id": "2Dm7K1G0iWX_"
      },
      "source": [
        "This walkthrough is designed to be run in a Jupyter notebook on Google Colaboratory. To open the notebook in colab, go [here](https://colab.research.google.com/github/FedeMPouzols/cngi_prototype/blob/ngcasa_flagging_experiments/docs/flagging.ipynb)\n",
        "\n"
      ]
    },
    {
      "cell_type": "markdown",
      "metadata": {
        "id": "6jAvLRNvJlW4"
      },
      "source": [
        "## Get required packages and data"
      ]
    },
    {
      "cell_type": "code",
      "metadata": {
        "id": "ipEauu1Jh4xJ"
      },
      "source": [
        "# Installation\n",
        "import os\n",
        "# (WIP note: we might get by without casatools, if we prepare some .vis.zarr available for download re-check)\n",
        "print(\"installing casa6 + cngi (takes a minute or two)...\")\n",
        "os.system(\"apt-get install libgfortran3\")\n",
        "os.system(\"pip install --index-url https://casa-pip.nrao.edu/repository/pypi-casa-release/simple casatools==6.1.0.118\")\n",
        "\n",
        "os.system(\"pip install cngi-prototype==0.0.67\")"
      ],
      "execution_count": null,
      "outputs": []
    },
    {
      "cell_type": "code",
      "metadata": {
        "id": "YQjaoCTVJf5F"
      },
      "source": [
        "# Retrieve and extract demonstration datasets\r\n",
        "print('retrieving MS tarfiles...')\r\n",
        "!gdown -q --id 15HfB4rJKqEH7df088Ge5YLrCTXBIax6R\r\n",
        "!gdown -q --id 1N9QSs2Hbhi-BrEHx5PA54WigXt8GGgx1\r\n",
        "print('extracting MS tarfiles...')\r\n",
        "!tar -xf M100.ms.tar\r\n",
        "!tar -xzf sis14_twhya_calibrated_flagged.ms.tar.gz\r\n",
        "# TODO: download the \".flagonline.txt\" file\r\n",
        "print('complete')"
      ],
      "execution_count": null,
      "outputs": []
    },
    {
      "cell_type": "markdown",
      "metadata": {
        "id": "dGtBsZgZj4sn"
      },
      "source": [
        "## Initialize the Environment\n",
        "Omitting for now. I think we don't need it here and it shouldn't show up here at the ngCASA level anyway."
      ]
    },
    {
      "cell_type": "markdown",
      "metadata": {
        "id": "GwVQyWI1jGf8"
      },
      "source": [
        "## Load demo data"
      ]
    },
    {
      "cell_type": "code",
      "metadata": {
        "id": "03C__ZipjIP0"
      },
      "source": [
        "from cngi.conversion import convert_ms\r\n",
        "\r\n",
        "zarr_name = 'twhya.vis.zarr' \r\n",
        "multi_xds = convert_ms('sis14_twhya_calibrated_flagged.ms', outfile=zarr_name) "
      ],
      "execution_count": null,
      "outputs": []
    },
    {
      "cell_type": "code",
      "metadata": {
        "id": "4Fp8hZsZWjJm"
      },
      "source": [
        "from cngi.dio import describe_vis \r\n",
        "describe_vis(zarr_name)\r\n",
        "# We will be using the only SPW present in this dataset\r\n",
        "vis_dset = multi_xds.xds0"
      ],
      "execution_count": null,
      "outputs": []
    },
    {
      "cell_type": "markdown",
      "metadata": {
        "id": "imd3mXGWiJTx"
      },
      "source": [
        "## Flag summaries\r\n",
        "Summaries of flags by different dimensions in a dictionary, similar to the dictionary produce by CASA flagdata in 'summary' mode."
      ]
    },
    {
      "cell_type": "code",
      "metadata": {
        "id": "7e_Iwy2OiJ7n"
      },
      "source": [
        "from ngcasa.flagging import summary\r\n",
        "counts = summary(vis_dset)\r\n",
        "print(counts)"
      ],
      "execution_count": null,
      "outputs": []
    },
    {
      "cell_type": "markdown",
      "metadata": {
        "id": "56u8CD6oh6-r"
      },
      "source": [
        "## Handling flag versions\n",
        "\n",
        "\n"
      ]
    },
    {
      "cell_type": "code",
      "metadata": {
        "id": "lS65GxBoiGID"
      },
      "source": [
        "from ngcasa.flagging import manager_list, manager_add, manager_remove\r\n",
        "versions = manager_list(vis_dset)\r\n",
        "print(versions)\r\n",
        "\r\n",
        "vis_flags = manager_add(vis_dset, 'start', 'flags state at start')\r\n",
        "# vis_flags = manual_unflag(vis_flags, [{'time': slice('2011-09-16T15:38:17','2011-10-16T18:39:50')}])\r\n",
        "vis_flags = manager_add(vis_flags, 'backup', 'backup description')\r\n",
        "#\r\n",
        "vis_flags = manager_add(vis_flags, 'final', 'backup second descr')\r\n",
        "#\r\n",
        "versions = manager_list(vis_flags)\r\n",
        "print(versions)\r\n",
        "\r\n",
        "# fxds['FLAG'] = fxds['FLAG_final']\r\n",
        "fxds['FLAG'] = fxds['FLAG_backup'] | fxds['FLAG_start']\r\n",
        "\r\n",
        "# We can always drop versions that are no longer useful\r\n",
        "vis_flags = manager_remove(vis_flags, 'start')\r\n",
        "vis_flags = manager_remove(vis_flags, 'backup')\r\n",
        "vis_flags = manager_remove(vis_flags, 'final')\r\n",
        "versions = manager_list(vis_flags)\r\n",
        "print(versions)"
      ],
      "execution_count": null,
      "outputs": []
    },
    {
      "cell_type": "markdown",
      "metadata": {
        "id": "ArKo37PtiKZF"
      },
      "source": [
        "## Running flagging methods\n",
        "A few illustrative examples, trying to cover all the categories of flagging methods.\n",
        "\n"
      ]
    },
    {
      "cell_type": "markdown",
      "metadata": {
        "id": "gCVel9YBfODD"
      },
      "source": [
        "### Manual flagging and meta-information based methods\r\n",
        "Methods based on data selection and/or meta-information. Simple examples with data selection based flagging and unflagging."
      ]
    },
    {
      "cell_type": "code",
      "metadata": {
        "id": "fKW_dxITjj7F"
      },
      "source": [
        "from ngcasa.flagging import manual_flag, manual_unflag\r\n",
        "\r\n",
        "#\r\n",
        "vis_dset = manager_add(vis_dset, 'checkpointA', 'after a couple of example manual selections')\r\n",
        "#\r\n",
        "vis_dset = manager_add(vis_dset, 'manual_sels', 'after applying a few manual flags')\r\n",
        "\r\n",
        "vis_unflagged = manual_unflag(vis_dset, {})\r\n",
        "counts = summary(vis_unflagged)\r\n",
        "print('After unflagging: {}'.format(counts))\r\n",
        "flagged_manual = applyflags(vis_dset, flags=['FLAG'])\r\n",
        "visplot(flagged_manual.DATA, plot_axes)"
      ],
      "execution_count": null,
      "outputs": []
    },
    {
      "cell_type": "markdown",
      "metadata": {
        "id": "yqyM61V4fTTc"
      },
      "source": [
        "### Manual flagging with command lists\r\n",
        "An example of application of a list of manual flagging commands, resembling use cases from pipelines. An additional required input is the file of flagging commands. Here we use a `.flagonline.txt` file as used in pipelines, where we usually find of the order of 1000s or 10s of thousands of commands. The `.flagonline.txt` is the lion's share of the full list of commands used by pipelines (`.flagcmds.txt`), where the `.flagonline.txt` list of commands is extended with a much shorter list of additional commands that may include a number of summaries, selections based on intent and frequency, the shadow method, etc.\r\n",
        "\r\n",
        "The selection syntax used is the Xarray selection syntax (see examples in the [Visibilities walkthrough ](visibilities.ipynb)), with selection by label `xds.sel(...)`."
      ]
    },
    {
      "cell_type": "code",
      "metadata": {
        "id": "7q-s9V0pxuwv"
      },
      "source": [
        "vis_flags = manual_unflag(vis_flags, [{'time': slice('2011-09-16T15:38:17','2011-10-16T18:39:50')}])\r\n",
        "#\r\n",
        "vis_flags = manual_unflag(vis_flags, [{)}])\r\n",
        "\r\n",
        "# Flag two groups of adjacent ~20 chans\r\n",
        "vis_flags = manual_flag(vis_flags, [{'chan': slice(113.8e9, 113.95e9)}, \r\n",
        "                                    {'chan': slice(115.0e9, 115.16e9)}]\r\n",
        "\r\n",
        "# Flag some baselines, by ID\r\n",
        "vis_flgs = manual_flag(vis_flags, [{'baseline': [133, 134, 135]}])\r\n",
        "# Flag polarization, by ID\r\n",
        "# vis_flgs = manual_flag(vis_flags, [{'pol': 9}])\r\n",
        "\r\n",
        "# vis_dset = manual_flag(vis_dset, cmdfile='.flagonline.txt')\r\n",
        "vis_dset = manager_add(vis_dset, 'manual_list', 'after applying list of selection commands')"
      ],
      "execution_count": null,
      "outputs": []
    },
    {
      "cell_type": "markdown",
      "metadata": {
        "id": "SPCYXHzYfXKi"
      },
      "source": [
        "### Auto-flagging methods\r\n",
        "An illustrative example using the `auto_clip` method. Other auto-flagging methods such as tfcrop, rflag, and uvbin are not implemented."
      ]
    },
    {
      "cell_type": "code",
      "metadata": {
        "id": "z_uKH64_l54l"
      },
      "source": [
        "from ngcasa.flagging import auto_clip\r\n",
        "# \r\n",
        "vis_dset = manager_add(vis_dset, 'auto_clip', 'after applying clip')"
      ],
      "execution_count": null,
      "outputs": []
    },
    {
      "cell_type": "markdown",
      "metadata": {
        "id": "8jVF8gAtZU2Y"
      },
      "source": [
        "## Applying flags\r\n",
        "To apply a version of flags on a visibilities dataset, before going on to further processing, the function `cngi.vis.applyflags` should be applied. Some examples can be found in the [Continuum Imaging Example](imaging/continuum_imaging_example.ipynb) or the [Visibilities walkthrough](visibilities.ipynb). `cngi.vis.applyflags` sets the flagged data values to NaN. This has the effect that those NaN values are effectively excluded from subsequent CNGI/ngCASA processing. Other components of CNGI and ngCASA, such as imaging, will ignore those NaN values."
      ]
    },
    {
      "cell_type": "code",
      "metadata": {
        "id": "JHSr1JxOiUeF"
      },
      "source": [
        "from cngi.vis import applyflags\r\n",
        "from cngi.vis import visplot\r\n",
        "\r\n",
        "versions = manager_list(vis_dset)\r\n",
        "versions\r\n",
        "\r\n",
        "plot_coords = ['time', 'chan']\r\n",
        "visplot(vis_dset.DATA, plot_axes)\r\n",
        "vis_dataset_flagged = applyflags(vis_dataset, flags=['FLAG'])\r\n",
        "# Further processing: visualization, calibration, imaging, etc. with flags applied (flagged data excluded)\r\n",
        "# ...\r\n",
        "# TODO: a plot example like in the visibilities notebook\r\n",
        "\r\n",
        "flagged_manual = applyflags(vis_dset, flags=['FLAG_MANUAL_LIST'])\r\n",
        "visplot(flagged_manual.DATA, plot_axes)\r\n",
        "\r\n",
        "flagged_clip = applyflags(vis_dset, flags=['FLAG_AUTO_CLIP'])\r\n",
        "visplot(flagged_clip.DATA, plot_axes)"
      ],
      "execution_count": null,
      "outputs": []
    }
  ]
}