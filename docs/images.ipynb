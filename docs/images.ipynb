{
 "cells": [
  {
   "cell_type": "markdown",
   "metadata": {
    "id": "xr_RX4CA876u"
   },
   "source": [
    "# Images\n",
    "An overview of the image data structure and manipulation.\n",
    "\n",
    "This walkthrough is designed to be run in a Jupyter notebook on Google Colaboratory. To open the notebook in colab, go [here](https://colab.research.google.com/github/casangi/cngi_prototype/blob/master/docs/images.ipynb)"
   ]
  },
  {
   "cell_type": "code",
   "execution_count": null,
   "metadata": {
    "id": "-TyAr5xoOn4V"
   },
   "outputs": [],
   "source": [
    "# TEMPORARY WORKAROUND for Python 3.7 - you must run this notebook twice!!\n",
    "import os\n",
    "import numpy as np\n",
    "\n",
    "if np.__version__ != '1.20.1':\n",
    "    print('updating numpy and killing runtime....\\nPlease re-run this notebook (Runtime -> Run all)')\n",
    "    os.system('pip install --upgrade numpy==1.20.1')\n",
    "    os._exit(00)"
   ]
  },
  {
   "cell_type": "code",
   "execution_count": null,
   "metadata": {
    "colab": {
     "base_uri": "https://localhost:8080/"
    },
    "id": "IIr5sp0VgR2m",
    "outputId": "fd4f8920-04a2-4eaf-92e7-923c928332a9"
   },
   "outputs": [],
   "source": [
    "# Installation  \n",
    "# for this demonstration we will use the data from the ALMA First Look at Imaging CASAguide\n",
    "import os, warnings\n",
    "warnings.simplefilter(\"ignore\", category=RuntimeWarning)  # suppress warnings about nan-slices\n",
    "print(\"installing casa6 and cngi (takes a few minutes)...\")\n",
    "os.system(\"apt-get install libgfortran3\")\n",
    "os.system(\"pip install --index-url https://casa-pip.nrao.edu:443/repository/pypi-group/simple casatasks==6.2.0.96\")\n",
    "os.system(\"pip install --index-url https://casa-pip.nrao.edu:443/repository/pypi-group/simple casadata\")\n",
    "os.system(\"pip install cngi-prototype==0.0.71\")\n",
    "\n",
    "print(\"downloading MeasurementSet from CASAguide First Look at Imaging...\")\n",
    "!gdown -q --id 1N9QSs2Hbhi-BrEHx5PA54WigXt8GGgx1\n",
    "!tar -xzf sis14_twhya_calibrated_flagged.ms.tar.gz\n",
    "\n",
    "print('complete')"
   ]
  },
  {
   "cell_type": "markdown",
   "metadata": {
    "id": "1GEO-8JoUqbr"
   },
   "source": [
    "## Initialize the Environment\n",
    "`InitializeFramework` instantiates a client object (does not need to be returned and saved by caller). Once this object exists, all Dask objects automatically know to use it for parallel execution.  \n",
    "\n",
    "```python\n",
    ">>> from cngi.direct import InitializeFramework\n",
    ">>> client = InitializeFramework(workers=4, memory='2GB')\n",
    ">>> print(client)\n",
    "<Client: 'tcp://127.0.0.1:33227' processes=4 threads=4, memory=8.00 GB>\n",
    "```\n",
    "\n",
    "Omitting this step will cause the subsequent Dask dataframe operations to use the default built-in scheduler for parallel execution (which can actually be faster on local machines anyway)\n",
    "\n",
    "Google Colab doesn't really support the dask.distributed environment particularly well, so we will let Dask use its default scheduler.\n"
   ]
  },
  {
   "cell_type": "markdown",
   "metadata": {
    "id": "0laqOewLB5Ss"
   },
   "source": [
    "## Create Image Data\n",
    "First we need to create a CASA image by calling CASA6 tclean on the CASAguide MS\n",
    "\n",
    "Pro tip: you can see the files being created by expanding the left navigation bar in colab (little arrow on top left) and going to \"Files\""
   ]
  },
  {
   "cell_type": "code",
   "execution_count": null,
   "metadata": {
    "colab": {
     "base_uri": "https://localhost:8080/"
    },
    "id": "gzQtOwjId2v1",
    "outputId": "b700ef29-3062-4a8a-cf7b-cc63bbce8ed4"
   },
   "outputs": [],
   "source": [
    "from casatasks import tclean\n",
    "tclean(vis='sis14_twhya_calibrated_flagged.ms', imagename='sis14_twhya_calibrated_flagged', field='5', spw='',\n",
    "       specmode='cube', deconvolver='hogbom', nterms=1, imsize=[250,250], gridder='standard', cell=['0.1arcsec'],\n",
    "       nchan=10, weighting='natural', threshold='0mJy', niter=5000, interactive=False, pbcor=True,\n",
    "       savemodel='modelcolumn', usemask='auto-multithresh')\n",
    "print('complete')"
   ]
  },
  {
   "cell_type": "markdown",
   "metadata": {
    "id": "tjjC95fkggVC"
   },
   "source": [
    "tclean produces an image along with a number of supporting products (residual, pb, psf, etc) in their own separate directories.  \n",
    "\n",
    "CNGI uses an [xarray](http://xarray.pydata.org/en/stable/data-structures.html#dataset) data model and the zarr storage format which is capable of storing all image products (of the same shape) together.\n",
    "\n",
    "Note that the .mask image product will be renamed to 'automask' in the xarray data model and 'mask' will hold the mask pixel values extracted from the .image."
   ]
  },
  {
   "cell_type": "code",
   "execution_count": null,
   "metadata": {
    "colab": {
     "base_uri": "https://localhost:8080/"
    },
    "id": "S0B_KBb09ORJ",
    "outputId": "2ebf1b1a-ab86-4812-f1ce-4bb837ed92d9"
   },
   "outputs": [],
   "source": [
    "from cngi.conversion import convert_image\n",
    "\n",
    "image_xds = convert_image('sis14_twhya_calibrated_flagged.image')"
   ]
  },
  {
   "cell_type": "markdown",
   "metadata": {
    "id": "WR4zONgSkLF7"
   },
   "source": [
    "Within the xarray dataset image, we can see a very clear definition of the image properties.  The **Dimensions** section holds the size of the image, while the **Coordinates** section defines the values of each dimension.  The actual image (and supporting products) are stored in the **Data variables** section.  Lastly, the **Attributes** section holds the remaining metadata.\n",
    "\n",
    "Note that the variables *image*, *automask*, *mask*, *model*, *pb*, *psf*, and *residual* all share the same dimensions of 250x250x1x10 while the variable *sumwt* is a subset of dimensions 1x10"
   ]
  },
  {
   "cell_type": "code",
   "execution_count": null,
   "metadata": {
    "colab": {
     "base_uri": "https://localhost:8080/"
    },
    "id": "QZtPBkIej7BG",
    "outputId": "7f5dcd28-e722-441a-adaf-04ad92cb9731"
   },
   "outputs": [],
   "source": [
    "print(image_xds)"
   ]
  },
  {
   "cell_type": "markdown",
   "metadata": {
    "id": "KEvuLSbw9Iwr"
   },
   "source": [
    "The image has both cartesian pixel coordinates (l, m) and spherical world coordinates (right_ascension, declination).\n",
    "\n",
    "The spherical nature of the multi-dimensional right_ascension and declination coordinate structures becomes clearer when we plot a very wide image:"
   ]
  },
  {
   "cell_type": "code",
   "execution_count": null,
   "metadata": {
    "colab": {
     "base_uri": "https://localhost:8080/",
     "height": 332
    },
    "id": "vuu-RvzqIAnT",
    "outputId": "fd838b14-1441-4da3-ca53-1ec5ee26b693"
   },
   "outputs": [],
   "source": [
    "tclean(vis='sis14_twhya_calibrated_flagged.ms', imagename='wide_cube', field='5', spw='', specmode='cube', cell='30arcmin',\n",
    "       imsize=100, nchan=10, deconvolver='hogbom', niter=10, savemodel='modelcolumn', usemask='auto-multithresh')\n",
    "\n",
    "widexds = convert_image('wide_cube.image')\n",
    "widexds.plot.scatter(x='right_ascension', y='declination')"
   ]
  },
  {
   "cell_type": "markdown",
   "metadata": {
    "id": "NhmiN3Y4l2aI"
   },
   "source": [
    "## Preview Image\n",
    "We can quickly spot check image contents.  This is also handy later on during image manipulation and analysis.  Most image data is four-dimensional, so the plotting routine will collapse extra dimensions by taking the max (this is more robust than mean).\n",
    "\n",
    "The image can be plotted using its spherical world coordinates or cartesian pixel indices"
   ]
  },
  {
   "cell_type": "code",
   "execution_count": null,
   "metadata": {
    "colab": {
     "base_uri": "https://localhost:8080/",
     "height": 296
    },
    "id": "JKwqhlUjmMFk",
    "outputId": "3d2c0844-c7c5-44dc-f7d4-ad8256836302"
   },
   "outputs": [],
   "source": [
    "from cngi.image import implot\n",
    "\n",
    "# just channel 5\n",
    "implot(image_xds.IMAGE, axis=['right_ascension', 'declination'], chans=5)"
   ]
  },
  {
   "cell_type": "code",
   "execution_count": null,
   "metadata": {
    "colab": {
     "base_uri": "https://localhost:8080/",
     "height": 295
    },
    "id": "p0p3b91aPA-P",
    "outputId": "a873afc5-fe9c-4587-806f-418428adb78d"
   },
   "outputs": [],
   "source": [
    "# max of all channels, with cartesian pixel indices\n",
    "implot(image_xds.IMAGE, axis=['l', 'm'], chans=None)"
   ]
  },
  {
   "cell_type": "markdown",
   "metadata": {
    "id": "tHN_owfrPUq3"
   },
   "source": [
    "Other image data products are plotted the same way"
   ]
  },
  {
   "cell_type": "code",
   "execution_count": null,
   "metadata": {
    "colab": {
     "base_uri": "https://localhost:8080/",
     "height": 295
    },
    "id": "NZMPxkWfIvt3",
    "outputId": "c71b3cc6-9b35-4ec4-e80c-bb898db9f085"
   },
   "outputs": [],
   "source": [
    "implot(image_xds.RESIDUAL, chans=5)"
   ]
  },
  {
   "cell_type": "markdown",
   "metadata": {
    "id": "eGXBEwrGNKcF"
   },
   "source": [
    "The plotting function has the same capabilities as the visibility routine, so we can also make scatter plots across coordinates and dimensions using the axis parameter. Other dimensions are collapsed by taking the max."
   ]
  },
  {
   "cell_type": "code",
   "execution_count": null,
   "metadata": {
    "colab": {
     "base_uri": "https://localhost:8080/",
     "height": 295
    },
    "id": "kQnY8hvgNaE2",
    "outputId": "cd0c1e4b-b100-444c-94da-fbbd06a8b64d"
   },
   "outputs": [],
   "source": [
    "implot(image_xds.IMAGE, axis='l')"
   ]
  },
  {
   "cell_type": "markdown",
   "metadata": {
    "id": "kW1H3WvjOc4O"
   },
   "source": [
    "Looking across channels, it is clear that channel 0 is empty.  This is why the above plot across all channels is rescaled to a min value of 0."
   ]
  },
  {
   "cell_type": "code",
   "execution_count": null,
   "metadata": {
    "colab": {
     "base_uri": "https://localhost:8080/",
     "height": 295
    },
    "id": "HzMgl2WzOPNG",
    "outputId": "0b923735-22db-4e51-85f8-64a60fe9e658"
   },
   "outputs": [],
   "source": [
    "implot(image_xds.IMAGE, axis='chan')"
   ]
  },
  {
   "cell_type": "markdown",
   "metadata": {
    "id": "Lj3Rwou0I_Aw"
   },
   "source": [
    "## Basic Manipulation\n",
    "Many image operations can be easily done directly on the image xarray dataset\n",
    "\n",
    "**Example 1: imsubimage** - copy all or part of an image to a new image"
   ]
  },
  {
   "cell_type": "code",
   "execution_count": null,
   "metadata": {
    "colab": {
     "base_uri": "https://localhost:8080/",
     "height": 573
    },
    "id": "F16wV-BmJGgw",
    "outputId": "e7a386c7-337f-4217-a1cc-5ca28f4d9998"
   },
   "outputs": [],
   "source": [
    "# selection by coordinate values\n",
    "image_xds2 = image_xds.where( (image_xds.right_ascension > 2.887905) & (image_xds.right_ascension < 2.887935) &\n",
    "                              (image_xds.declination > -0.60573) & (image_xds.declination < -0.60570), drop=True ) \n",
    "implot(image_xds2.IMAGE, chans=5)\n",
    "\n",
    "# selection by pixel indices (50x50 pixel square)\n",
    "# note that this same method works for any other dimension (stokes, channels, etc)\n",
    "image_xds2 = image_xds.isel(l=range(85,135), m=range(100,150))\n",
    "implot(image_xds2.IMAGE, chans=5)"
   ]
  },
  {
   "cell_type": "markdown",
   "metadata": {
    "id": "O5fV4I8ltL9S"
   },
   "source": [
    "**Example 2: imtrans** - reorders (transposes) the axes in the input image to the specified order\n",
    "\n",
    "This can be done on the entire dataset, or just one variable in the dataset. Here we will do it on the whole thing which is probably best if you want to preserve your regions and masks (explained later).  This will generally not affect the preview plot since it selects axes by name rather than index. That is one advantage of xarray over numpy."
   ]
  },
  {
   "cell_type": "code",
   "execution_count": null,
   "metadata": {
    "colab": {
     "base_uri": "https://localhost:8080/"
    },
    "id": "fH4x7TzrrRJ1",
    "outputId": "4bf2b276-c41a-47c0-f23f-0a69a2b46fa7"
   },
   "outputs": [],
   "source": [
    "image_xds2 = image_xds.transpose('chan','m','time','l','pol')\n",
    "print('Before\\n', image_xds.data_vars)\n",
    "print('\\nAfter\\n', image_xds2.data_vars)"
   ]
  },
  {
   "cell_type": "markdown",
   "metadata": {
    "id": "gimznOCJvemt"
   },
   "source": [
    "**Example 3: imcollapse** - collapse an image along a specified axis or set of axes of N pixels into a single pixel on each specified axis.\n",
    "\n",
    "Again, this can be done on the entire dataset, or just one variable in the dataset. Refer to the [xarray documentation](http://xarray.pydata.org/en/stable/api.html#dataset) for supported aggregation functions, or write your own and call *reduce*.  This will generally break the preview plot since it is expecting a 4-D cube with ra, dec, stokes, and frequency axes"
   ]
  },
  {
   "cell_type": "code",
   "execution_count": null,
   "metadata": {
    "colab": {
     "base_uri": "https://localhost:8080/"
    },
    "id": "Fgna49oDve1d",
    "outputId": "2234d0fa-a5f9-4bd1-a688-97517dfd56fa"
   },
   "outputs": [],
   "source": [
    "# one dimension collapse\n",
    "image_xds2 = image_xds.sum(dim='chan')\n",
    "print('One dimension collapse\\n', image_xds2.data_vars)\n",
    "\n",
    "# multi-dimension collapse\n",
    "image_xds2 = image_xds.mean(dim=['l','m'])\n",
    "print('\\nMulti-dimension collapse\\n', image_xds2.data_vars)\n"
   ]
  },
  {
   "cell_type": "markdown",
   "metadata": {
    "id": "E9ftd61wOmx1"
   },
   "source": [
    "## Regions and Masks\n",
    "Both regions and masks are stored as boolean arrays in the same xarray dataset alongside the rest of the image components.  They always share the same dimensions as the image.\n",
    "\n",
    "They are both now treated as the same thing, so a value of 0 means \"discard this pixel\" and a value of 1 means \"keep this pixel\" regardless of whether it is a mask or a region.  In fact, any xarray data variable of boolean type can be used as a region/mask, there is nothing special about the names.\n",
    "\n",
    "Regions/masks can be set across any dimension, so they can be per-channel and per-stokes as well as the spatial dimensions.\n"
   ]
  },
  {
   "cell_type": "markdown",
   "metadata": {
    "id": "LhLa53bNn1sW"
   },
   "source": [
    "### Regions\n",
    "\n",
    "First lets create a couple examples:"
   ]
  },
  {
   "cell_type": "code",
   "execution_count": null,
   "metadata": {
    "colab": {
     "base_uri": "https://localhost:8080/",
     "height": 573
    },
    "id": "wVklpUm4PefE",
    "outputId": "505c70fa-7917-4dac-ca7c-8f2792fbc21c"
   },
   "outputs": [],
   "source": [
    "from cngi.image import region\n",
    "\n",
    "# region 1 is an ra/dec box across all channels\n",
    "image_xds2 = region(image_xds, 'REGION1', ra=[2.887905, 2.887935], dec=[-0.60573, -0.60570])\n",
    "\n",
    "# lets examine what it looks like\n",
    "implot(image_xds2.REGION1, chans=5)\n",
    "\n",
    "# and combined with our image\n",
    "implot(image_xds2.IMAGE.where(image_xds2.REGION1), chans=5)"
   ]
  },
  {
   "cell_type": "code",
   "execution_count": null,
   "metadata": {
    "colab": {
     "base_uri": "https://localhost:8080/",
     "height": 851
    },
    "id": "G1hfUNIeRFMa",
    "outputId": "4d232a2b-13f8-4f0a-e4c2-57d872afaad2"
   },
   "outputs": [],
   "source": [
    "# region 2 is a pixel box across channels 3, 4 and 5\n",
    "image_xds3 = region(image_xds2, 'REGION2', pixels=[[85,100],[135,150]], channels=[3,4,5])\n",
    "\n",
    "# observe the change in behavior across channels\n",
    "implot(image_xds3.REGION2, chans=5)\n",
    "implot(image_xds3.REGION2, chans=6)\n",
    "implot(image_xds3.IMAGE.where(image_xds3.REGION2), chans=[5,6])"
   ]
  },
  {
   "cell_type": "markdown",
   "metadata": {
    "id": "f0QnfdKVTwXn"
   },
   "source": [
    "Regions are just data variables in the xarray dataset. So we can manipulate them the same way we can any other variable."
   ]
  },
  {
   "cell_type": "code",
   "execution_count": null,
   "metadata": {
    "colab": {
     "base_uri": "https://localhost:8080/"
    },
    "id": "-15ATJo8RQrR",
    "outputId": "1e8e8d44-24ca-4d2c-cea2-27d24586991e"
   },
   "outputs": [],
   "source": [
    "image_xds3.data_vars"
   ]
  },
  {
   "cell_type": "markdown",
   "metadata": {
    "id": "JSYZk0LtXPwC"
   },
   "source": [
    "Let's combine the first two regions in to a new one (doesn't need to be contiguous, although it is here). It is just a logical OR of two boolean arrays (obviously you could do an AND, XOR, or whatever else).\n",
    "\n",
    "Just keep in mind that these are 4-D arrays, not 2-D."
   ]
  },
  {
   "cell_type": "code",
   "execution_count": null,
   "metadata": {
    "colab": {
     "base_uri": "https://localhost:8080/",
     "height": 573
    },
    "id": "juqdCYSOUCBW",
    "outputId": "642969be-7ea5-409e-b67d-70ca72396708"
   },
   "outputs": [],
   "source": [
    "region3 = image_xds3.REGION1 | image_xds3.REGION2\n",
    "image_xds4 = image_xds3.assign(dict([('REGION3', region3)]))\n",
    " \n",
    "implot(image_xds4.REGION3, chans=5)\n",
    "implot(image_xds4.IMAGE.where(image_xds4.REGION3), chans=5)"
   ]
  },
  {
   "cell_type": "markdown",
   "metadata": {
    "id": "uxNACRxXaIPC"
   },
   "source": [
    "### Masks\n",
    "\n",
    "Masks are just like regions but with inverse logic used to set them.  Here is the same code again using calls to mask instead of region."
   ]
  },
  {
   "cell_type": "code",
   "execution_count": null,
   "metadata": {
    "colab": {
     "base_uri": "https://localhost:8080/",
     "height": 573
    },
    "id": "ZfaiQSgvaG74",
    "outputId": "8c13f222-34c4-4fbb-cc5b-8402f708ebb1"
   },
   "outputs": [],
   "source": [
    "from cngi.image import mask\n",
    "\n",
    "image_xds2 = mask(image_xds, 'MASK1', ra=[2.887905, 2.887935], dec=[-0.60573, -0.60570])\n",
    "\n",
    "implot(image_xds2.MASK1, chans=5)\n",
    "implot(image_xds2.IMAGE.where(image_xds2.MASK1), chans=5)"
   ]
  },
  {
   "cell_type": "markdown",
   "metadata": {
    "id": "k_oW2vYRqFYL"
   },
   "source": [
    "Our converted image actually had two masks in it already, the variables *mask* and *deconvolve*.  Deconvolve is named differently because it is the mask set by auto-masking for the deconvolution rather than an image mask.  \n",
    "\n",
    "These actually look a lot more like regions than masks, but that's the terminology that was used.  Again, they are the same thing anyway"
   ]
  },
  {
   "cell_type": "code",
   "execution_count": null,
   "metadata": {
    "colab": {
     "base_uri": "https://localhost:8080/",
     "height": 573
    },
    "id": "pVELBq6np83F",
    "outputId": "fc2b1129-131d-41d2-c552-caf929d69b32"
   },
   "outputs": [],
   "source": [
    "implot(image_xds2.AUTOMASK, chans=5)\n",
    "implot(image_xds2.IMAGE_MASK0, chans=5)"
   ]
  },
  {
   "cell_type": "markdown",
   "metadata": {
    "id": "L4zuLRrw3CDr"
   },
   "source": [
    "### Manipulation with Regions and Masks\n",
    "\n",
    "All of the previously discussed image manipulation techniques can be done with regions and masks applied.  Just subselect the pixels within the region (outside the mask) first.  This is done with *dataset.where(..., drop=True)* \n",
    "\n",
    "Here is example 3 again with a region applied.\n",
    "\n",
    "**Example 3: imcollapse** - collapse an image along a specified axis or set of axes of N pixels into a single pixel on each specified axis."
   ]
  },
  {
   "cell_type": "code",
   "execution_count": null,
   "metadata": {
    "colab": {
     "base_uri": "https://localhost:8080/",
     "height": 399
    },
    "id": "zw0J1Ksl3p-q",
    "outputId": "ececc6fa-94e1-4595-b363-984f2dfbf028"
   },
   "outputs": [],
   "source": [
    "# full image collapse\n",
    "image_xds2 = image_xds.mean(dim=['l','m'])\n",
    "print('Mean pixel values by channel : ', image_xds2.isel(pol=0).IMAGE.values, '\\n')\n",
    "\n",
    "# apply deconvolve region from auto-masking\n",
    "image_xds2 = image_xds.where(image_xds.AUTOMASK, drop=True)\n",
    "implot(image_xds2.IMAGE)\n",
    "\n",
    "# collapse just the region\n",
    "image_xds2 = image_xds2.mean(dim=['l','m'])\n",
    "print('\\nWith deconvolve mask applied : ', image_xds2.isel(pol=0).IMAGE.values)"
   ]
  },
  {
   "cell_type": "markdown",
   "metadata": {
    "id": "K7wlD1EM_pz0"
   },
   "source": [
    "## Beams and Smoothing\n",
    "Smoothing an image involves creating and convolving beams of appropriate parameters to achieve the desired target properties in the image."
   ]
  },
  {
   "cell_type": "markdown",
   "metadata": {
    "id": "sVlgAl3bWFNi"
   },
   "source": [
    "### Creating Beams\n",
    "Beams may be created as additional products in the image xarray Dataset. They may also be present already in parameterized form inside the attributes section.\n",
    "\n",
    "First lets expand the parameterized per-plane beams defined in the xds attributes section.  This beam is defined across the channels and polarization axes."
   ]
  },
  {
   "cell_type": "code",
   "execution_count": null,
   "metadata": {
    "colab": {
     "base_uri": "https://localhost:8080/",
     "height": 330
    },
    "id": "auo6VXluUJBs",
    "outputId": "69d452ee-c54a-428b-9939-a719681dae61"
   },
   "outputs": [],
   "source": [
    "from cngi.image import gaussian_beam\n",
    "\n",
    "print('restoring beam parameters (chan 5) : ', image_xds.perplanebeams[5])\n",
    "\n",
    "image_xds2 = gaussian_beam(image_xds, source='perplanebeams', name='RESTORING_BEAM')\n",
    "\n",
    "implot(image_xds2.RESTORING_BEAM)\n",
    "print('restoring beam dimensions: ', image_xds2.RESTORING_BEAM.shape)"
   ]
  },
  {
   "cell_type": "markdown",
   "metadata": {
    "id": "toU6_uoxUpR6"
   },
   "source": [
    "Now lets create a larger beam from our own parameters.  This one has only spatial dimensions."
   ]
  },
  {
   "cell_type": "code",
   "execution_count": null,
   "metadata": {
    "colab": {
     "base_uri": "https://localhost:8080/",
     "height": 312
    },
    "id": "FT1PStswUnua",
    "outputId": "e5d0269e-01f4-4225-832f-ea5c557c9446"
   },
   "outputs": [],
   "source": [
    "image_xds2 = gaussian_beam(image_xds2, source=[1., 1., 30], name='BEAM')\n",
    "\n",
    "implot(image_xds2.RESTORING_BEAM, 'l', drawplot=False)\n",
    "implot(image_xds2.BEAM, 'l', overplot=True)\n",
    "print('custom beam dimensions: ', image_xds2.BEAM.shape)"
   ]
  },
  {
   "cell_type": "markdown",
   "metadata": {
    "id": "Uid6lehMWexi"
   },
   "source": [
    "### Smoothing with Beams\n",
    "\n",
    "The smooth function can take an existing beam and convolve it across the image to produce a new output image. "
   ]
  },
  {
   "cell_type": "code",
   "execution_count": null,
   "metadata": {
    "colab": {
     "base_uri": "https://localhost:8080/",
     "height": 608
    },
    "id": "QbioR404_x2x",
    "outputId": "73997147-445b-445d-8a18-65b3fdd8eee0"
   },
   "outputs": [],
   "source": [
    "from cngi.image import smooth\n",
    "\n",
    "# smooth with the restoring beam\n",
    "image_xds3 = smooth(image_xds2, kernel='RESTORING_BEAM')\n",
    "\n",
    "print('original image')\n",
    "implot(image_xds2.IMAGE)\n",
    "\n",
    "print('smooth image')\n",
    "implot(image_xds3.IMAGE)"
   ]
  },
  {
   "cell_type": "code",
   "execution_count": null,
   "metadata": {
    "colab": {
     "base_uri": "https://localhost:8080/",
     "height": 295
    },
    "id": "C-Qd4v8mYb8T",
    "outputId": "5ee01bc3-3e10-4fc0-fc45-05340fefd66e"
   },
   "outputs": [],
   "source": [
    "# smooth with our larger custom beam\n",
    "image_xds4 = smooth(image_xds2, kernel='BEAM')\n",
    "\n",
    "implot(image_xds.IMAGE, axis='l', chans=5, drawplot=False)\n",
    "implot(image_xds3.IMAGE, axis='l', chans=5, overplot=True, drawplot=False)\n",
    "implot(image_xds4.IMAGE, axis='l', chans=5, overplot=True)"
   ]
  },
  {
   "cell_type": "markdown",
   "metadata": {
    "id": "KRplLXeqY7Fe"
   },
   "source": [
    "If the image has already been smoothed by a previous beam, the smooth function can take the parameters of a new desired beam and construct the appropriate correcting beam to produce that target. The correcting beam used for smoothing is saved in the output xarray Dataset."
   ]
  },
  {
   "cell_type": "code",
   "execution_count": null,
   "metadata": {
    "colab": {
     "base_uri": "https://localhost:8080/",
     "height": 573
    },
    "id": "U5PdgNVMX8aM",
    "outputId": "eca3096c-7150-4edb-8971-5ea3e685703a"
   },
   "outputs": [],
   "source": [
    "image_xds3 = smooth(image_xds2, kernel='gaussian', size=(1., 1., 60.), current=(0.65305, 0.50467, -66.), name='CORR_BEAM')\n",
    "\n",
    "implot(image_xds3.IMAGE)\n",
    "implot(image_xds3.RESTORING_BEAM, axis='l', chans=5, drawplot=False)\n",
    "implot(image_xds3.CORR_BEAM, axis='l', overplot=True)"
   ]
  },
  {
   "cell_type": "markdown",
   "metadata": {
    "id": "Ppc5LJgBDI6U"
   },
   "source": [
    "\n",
    "\n",
    "## Moments\n",
    "\n",
    "\n",
    "The moments function can compute moments from an image. The spectral moment distributions at each pixel are determined. The main control of the calculation is given by the parameter moment:\n",
    "\n",
    "*   moments = -1 - mean value of the spectrum\n",
    "*   moments =  0 - integrated value of the spectrum\n",
    "\n",
    "*   moments =  1 - intensity weighted coordinate; traditionally used to get \"velocity fields\"\n",
    "\n",
    "*   moments =  2 - intensity weighted dispersion of the coordinate; traditionally used to get \n",
    "\n",
    "*   moments =  3 - median value of the spectrum\n",
    "*   moments =  4 - median coordinate\n",
    "\n",
    "\n",
    "*   moments =  5 - standard deviation about the mean of the spectrum\n",
    "\n",
    "\n",
    "*   moments =  6 - root mean square of the spectrum\n",
    "\n",
    "\n",
    "*   moments =  7 - absolute mean deviation of the spectrum\n",
    "\n",
    "*   moments =  8 - maximum value of the spectrum\n",
    "*   moments =  9 - coordinate of the maximum value of the spectrum\n",
    "\n",
    "\n",
    "*   moments = 10 - minimum value of the spectrum\n",
    "\n",
    "*   moments = 11 - coordinate of the minimum value of the spectrum\n",
    "\n",
    "\n",
    "\n",
    "\n"
   ]
  },
  {
   "cell_type": "code",
   "execution_count": null,
   "metadata": {
    "colab": {
     "base_uri": "https://localhost:8080/",
     "height": 295
    },
    "id": "-o3iIZd8Gs7A",
    "outputId": "dcaaa9de-2ab0-49ea-8129-286a935f7bfc"
   },
   "outputs": [],
   "source": [
    "# Example for creating the \"moment 0\" map,\n",
    "from cngi.image import moments, implot\n",
    "\n",
    "image_xds2 = moments(image_xds, moment=0, axis='chan')\n",
    "\n",
    "implot(image_xds2.MOMENTS_INTEGRATED.where(image_xds2.IMAGE_MASK0))"
   ]
  },
  {
   "cell_type": "code",
   "execution_count": null,
   "metadata": {
    "colab": {
     "base_uri": "https://localhost:8080/",
     "height": 573
    },
    "id": "BJDWPrm9G8_Z",
    "outputId": "30a0cc25-d5be-46c8-e876-1fb1c03c105d"
   },
   "outputs": [],
   "source": [
    "# Example for creating selected moment maps for selected channels\n",
    "image_xds2 = moments(image_xds.isel(chan=[2,3,4,5,6,7,8]), moment = [-1,2])\n",
    "\n",
    "implot(image_xds2.MOMENTS_AVERAGE.where(image_xds2.IMAGE_MASK0))\n",
    "implot(image_xds2.MOMENTS_WEIGHTED_DISPERSION_COORD.where(image_xds2.IMAGE_MASK0))"
   ]
  },
  {
   "cell_type": "code",
   "execution_count": null,
   "metadata": {
    "colab": {
     "base_uri": "https://localhost:8080/",
     "height": 1000
    },
    "id": "ru85r_YNI34n",
    "outputId": "97c7c5a3-9f6f-4ebd-bb45-a6cf7db3b67d"
   },
   "outputs": [],
   "source": [
    "# Example for calculating with default settings: all channels and all moments.\n",
    "image_xds2 = moments(image_xds)\n",
    "\n",
    "implot(image_xds2.MOMENTS_MEDIAN.where(image_xds2.IMAGE_MASK0))\n",
    "implot(image_xds2.MOMENTS_MEDIAN_COORD.where(image_xds2.IMAGE_MASK0))\n",
    "implot(image_xds2.MOMENTS_STANDARD_DEVIATION.where(image_xds2.IMAGE_MASK0))\n",
    "implot(image_xds2.MOMENTS_RMS.where(image_xds2.IMAGE_MASK0))\n",
    "implot(image_xds2.MOMENTS_ABS_MEAN_DEV.where(image_xds2.IMAGE_MASK0))\n",
    "implot(image_xds2.MOMENTS_MAXIMUM.where(image_xds2.IMAGE_MASK0))\n",
    "implot(image_xds2.MOMENTS_MAXIMUM_COORD.where(image_xds2.IMAGE_MASK0))\n",
    "implot(image_xds2.MOMENTS_MINIMUM.where(image_xds2.IMAGE_MASK0))\n",
    "implot(image_xds2.MOMENTS_MINIMUM_COORD.where(image_xds2.IMAGE_MASK0))"
   ]
  },
  {
   "cell_type": "markdown",
   "metadata": {
    "id": "2oQnwjzyKkgN"
   },
   "source": [
    "## Statistics\n",
    "\n",
    "Displays statistical information from an image.\n",
    "\n",
    "*   npts:  the number of unmasked points used\n",
    "*   sum:   the sum of the pixel values\n",
    "\n",
    "*   sumsq: the sum of the squares of the pixel value\n",
    "\n",
    "*   mean:  the mean of pixel values\n",
    "\n",
    "*   sigma: the standard deviation about the mean\n",
    "\n",
    "*   rms:   the root mean sqaure\n",
    "\n",
    "*   min:   the minimum pixel value\n",
    "*   max:   the maximum pixel value\n",
    "\n",
    "\n",
    "*   median:the median pixel value\n",
    "\n",
    "\n",
    "*   medabsdevmed: the median of the absolute deviations from the median\n",
    "\n",
    "\n",
    "*   q1:    the first quartile\n",
    "\n",
    "\n",
    "*   q3:    the third quartile\n",
    "\n",
    "*   quartile: the inter-quartile range (if robust=T). Find the points which are 25% largest and 75% largest (the median is 50% largest).\n",
    "*   blc:   the absolute pixel coordinate of the bottom left corner of the bounding box of the region of interest.\n",
    "\n",
    "\n",
    "*   blcf:  the formatted absolute world coordinate of the bottom left corner of the bounding box of the region of interest.\n",
    "\n",
    "*   trc:   the absolute pixel coordinate of the top right corner of the bounding box of the region of interest.\n",
    "\n",
    "*   trcf:  the formatted absolute world coordinate of the top right corner of the bounding box of the region of interest.\n",
    "*   minpos:absolute pixel coordinate of minimum pixel value\n",
    "\n",
    "\n",
    "*   maxpos:absolute pixel coordinate of maximum pixel value\n",
    "\n",
    "\n",
    "*   minpos:the formatted absolute pixel coordinate of minimum pixel value\n",
    "\n",
    "*   maxpos:the formatted absolute pixel coordinate of maximum pixel value"
   ]
  },
  {
   "cell_type": "code",
   "execution_count": null,
   "metadata": {
    "colab": {
     "base_uri": "https://localhost:8080/"
    },
    "id": "oTIHYeq9MPU3",
    "outputId": "006eb7ed-5506-444f-ac37-6b6135f06430"
   },
   "outputs": [],
   "source": [
    "# Example of Directly call using default setting, and print the statistical results\n",
    "from cngi.image import statistics\n",
    "\n",
    "image_xds2 = statistics(image_xds)\n",
    "\n",
    "for kk in image_xds2.statistics:\n",
    "  print(kk, ' : ', image_xds2.statistics[kk])"
   ]
  },
  {
   "cell_type": "code",
   "execution_count": null,
   "metadata": {
    "colab": {
     "base_uri": "https://localhost:8080/"
    },
    "id": "nEGE9UlwMvfj",
    "outputId": "830de849-459b-46d5-c0d3-309604b04291"
   },
   "outputs": [],
   "source": [
    "# Example of select channels, then the mean and standard deviation are printed\n",
    "image_xds2 = statistics(image_xds.isel(chan=list(range(2,10))))\n",
    "\n",
    "print(\"Mean :\", image_xds2.statistics['mean'])\n",
    "print(\"Standard deviation :\", image_xds2.statistics['sigma'])"
   ]
  },
  {
   "cell_type": "code",
   "execution_count": null,
   "metadata": {
    "colab": {
     "base_uri": "https://localhost:8080/",
     "height": 677
    },
    "id": "jaJYTmWo2WWB",
    "outputId": "f827a212-0bd9-4ea0-909f-84731a52bb68"
   },
   "outputs": [],
   "source": [
    "# Example of select region and print the statistics.\n",
    "from cngi.image import region\n",
    "\n",
    "# region 1 is an ra/dec box across all channels\n",
    "image_xds2 = region(image_xds, 'REGION1', ra=[2.887905, 2.887935], dec=[-0.60573, -0.60570])\n",
    "image_xds2 = statistics(image_xds2.where(image_xds2.REGION1))\n",
    "\n",
    "implot(image_xds2.IMAGE.where(image_xds2.REGION1), chans=5)\n",
    "\n",
    "for kk in image_xds2.statistics:\n",
    "  print(kk,' : ', image_xds2.statistics[kk])"
   ]
  },
  {
   "cell_type": "markdown",
   "metadata": {
    "id": "F0QtMcM8o9Uv"
   },
   "source": [
    "## Continuum Subtraction\n",
    "The image cont_sub function estimates and subtracts continuum emission from an image cube.\n",
    "\n",
    "\n"
   ]
  },
  {
   "cell_type": "code",
   "execution_count": null,
   "metadata": {
    "id": "cg7srulV1JQ0"
   },
   "outputs": [],
   "source": [
    "# Example of Directly call using default setting. \n",
    "#from cngi.image import cont_sub\n",
    "\n",
    "#image_xds2=cont_sub(image_xds)\n",
    "\n",
    "#implot(image_xds2.LinePoly, chans = 0)\n",
    "#implot(image_xds2.ContinuumPoly, chans = 0)\n"
   ]
  },
  {
   "cell_type": "code",
   "execution_count": null,
   "metadata": {
    "id": "6J91KTHn8Qd7"
   },
   "outputs": [],
   "source": [
    "# Fit a second order polynomial (fitorder=2) to channels 3-5 and 7-9 to an RA x Dec x Frequency x Stokes cube. \n",
    "# Save fitting model and continuum emission data using user defined names.\n",
    "\n",
    "#image_xds2 = contsub(image_xds, linefile='LineFit', continuumname = 'Continuum', fitOrder=2, chans = '3~8, 7~9')\n",
    "\n",
    "#implot(image_xds2.LineFit,chans = 5)\n",
    "#implot(image_xds2.Continuum,chans = 5)\n"
   ]
  },
  {
   "cell_type": "markdown",
   "metadata": {
    "id": "gb7gmQlSh5SC"
   },
   "source": [
    "# Spectral Line Fitting Proof of Concept\n",
    "Adapted from https://github.com/emilyripka/BlogRepo/blob/master/181119_PeakFitting.ipynb\n",
    "Dave Mehringer 2021mar01"
   ]
  },
  {
   "cell_type": "code",
   "execution_count": null,
   "metadata": {
    "colab": {
     "base_uri": "https://localhost:8080/"
    },
    "id": "PCg4lDYbi5O2",
    "outputId": "ce382278-fa6e-4975-8e75-4695cacaf7a7"
   },
   "outputs": [],
   "source": [
    "# Create a blank image in CASA 6\n",
    "import casatools\n",
    "import numpy as np\n",
    "myia = casatools.image()\n",
    "nchan = 100\n",
    "myia.fromshape(\"gaussfit.im\",[20,20,nchan,1], overwrite=True)\n",
    "# insert the model spectrum\n",
    "x_vals = np.linspace(0,nchan-1,nchan)\n",
    "amp1 = 20\n",
    "sigma1 = 10\n",
    "cen1 = nchan/2\n",
    "y_vals = amp1*(np.exp((-1.0/2.0)*(((x_vals-cen1)/sigma1)**2)))\n",
    "pix = myia.getchunk()\n",
    "pix[10, 10, :, 0] = y_vals\n",
    "myia.putchunk(pix)\n",
    "# add some noise\n",
    "myia.addnoise()\n",
    "myia.done()\n",
    "# convert to CNGI image\n",
    "image_xds10 = convert_image('gaussfit.im')\n",
    "print(image_xds10)"
   ]
  },
  {
   "cell_type": "code",
   "execution_count": null,
   "metadata": {
    "colab": {
     "base_uri": "https://localhost:8080/",
     "height": 225
    },
    "id": "RhMGiQjWjUxH",
    "outputId": "8f9a76c4-dac2-480f-bbd9-056191728575"
   },
   "outputs": [],
   "source": [
    "# convert freqs to velocities\n",
    "import scipy\n",
    "restf = image_xds10.chan[50]\n",
    "vel = -(image_xds10.chan-restf)/restf*scipy.constants.c\n",
    "\n",
    "# plot the spectrum\n",
    "import matplotlib\n",
    "import matplotlib.pyplot as plt\n",
    "from matplotlib import gridspec\n",
    "\n",
    "fig = plt.figure(figsize=(4,3))\n",
    "gs = gridspec.GridSpec(1,1)\n",
    "ax1 = fig.add_subplot(gs[0])\n",
    "ax1.plot(vel, image_xds10.IM[10,10,0,:,0], \"ro\")\n",
    "ax1.set_xlim(vel.max(), vel.min())\n",
    "ax1.set_xlabel(\"velocity (km/s)\",family=\"serif\",  fontsize=12)\n",
    "ax1.set_ylabel(\"intensity\",family=\"serif\",  fontsize=12)\n",
    "fig.tight_layout()\n",
    "fig.savefig(\"rawGaussian.png\", format=\"png\",dpi=1000)"
   ]
  },
  {
   "cell_type": "code",
   "execution_count": null,
   "metadata": {
    "colab": {
     "base_uri": "https://localhost:8080/"
    },
    "id": "efw8yGj9kQgC",
    "outputId": "25d53b66-c5c9-41b6-ca5d-ba76adcb8ac8"
   },
   "outputs": [],
   "source": [
    "# do the fit and print the results\n",
    "\n",
    "def _1gaussian(x, amp1,cen1,sigma1):\n",
    "    return amp1*(np.exp((-1.0/2.0)*(((vel-cen1)/sigma1)**2)))\n",
    "popt_gauss, pcov_gauss = scipy.optimize.curve_fit(_1gaussian, vel, image_xds10.IM[10,10,0,:,0], p0=[amp1, vel[50], 2000])\n",
    "\n",
    "perr_gauss = np.sqrt(np.diag(pcov_gauss))\n",
    "\n",
    "print(f\"amplitude = {popt_gauss[0]:0.2f} (+/-) {perr_gauss[0]:0.2f} Jy/beam\")\n",
    "print(f\"center = {popt_gauss[1]: 0.2f} (+/-) {perr_gauss[1]:0.2f} km/s\")\n",
    "print(f\"sigma = {popt_gauss[2]: 0.2f} (+/-) {perr_gauss[2]:0.2f} km/s\")"
   ]
  },
  {
   "cell_type": "code",
   "execution_count": null,
   "metadata": {
    "colab": {
     "base_uri": "https://localhost:8080/",
     "height": 225
    },
    "id": "sncA6ZO5k2Nt",
    "outputId": "fbd0e447-7c46-440f-ac05-64fafcd8bbec"
   },
   "outputs": [],
   "source": [
    "# Plot the data and the fit\n",
    "fig = plt.figure(figsize=(4,3))\n",
    "gs = gridspec.GridSpec(1,1)\n",
    "ax1 = fig.add_subplot(gs[0])\n",
    "\n",
    "ax1.plot(vel, image_xds10.IM[10,10,0,:,0], \"ro\")\n",
    "ax1.plot(vel, _1gaussian(vel, *popt_gauss), 'k--')\n",
    "\n",
    "ax1.set_xlabel(\"velocity (km/s)\",family=\"serif\",  fontsize=12)\n",
    "ax1.set_ylabel(\"intensity\",family=\"serif\",  fontsize=12)\n",
    "\n",
    "fig.tight_layout()\n",
    "fig.savefig(\"fitGaussian.png\", format=\"png\",dpi=1000)"
   ]
  }
 ],
 "metadata": {
  "colab": {
   "collapsed_sections": [],
   "name": "images.ipynb",
   "provenance": [],
   "toc_visible": true
  },
  "kernelspec": {
   "display_name": "Python 3",
   "name": "python3"
  }
 },
 "nbformat": 4,
 "nbformat_minor": 0
}
