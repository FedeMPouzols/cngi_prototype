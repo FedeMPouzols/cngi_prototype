{
  "nbformat": 4,
  "nbformat_minor": 0,
  "metadata": {
    "colab": {
      "name": "performance.ipynb",
      "provenance": [],
      "collapsed_sections": [],
      "toc_visible": true,
      "include_colab_link": true
    },
    "kernelspec": {
      "name": "python3",
      "display_name": "Python 3"
    }
  },
  "cells": [
    {
      "cell_type": "markdown",
      "metadata": {
        "id": "view-in-github",
        "colab_type": "text"
      },
      "source": [
        "<a href=\"https://colab.research.google.com/github/casangi/cngi_prototype/blob/master/docs/verification/performance.ipynb\" target=\"_parent\"><img src=\"https://colab.research.google.com/assets/colab-badge.svg\" alt=\"Open In Colab\"/></a>"
      ]
    },
    {
      "cell_type": "markdown",
      "metadata": {
        "id": "xr_RX4CA876u",
        "colab_type": "text"
      },
      "source": [
        "# Performance\n",
        "\n",
        "Performance tests provide a benchmark reference of expected execution time as well as a (limited) comparison to CASA6 on comparable operations.\n",
        "\n",
        "This section is TBD"
      ]
    },
    {
      "cell_type": "markdown",
      "metadata": {
        "id": "SdrhXD0CoVOA",
        "colab_type": "text"
      },
      "source": [
        "## Execute this Notebook in Colab\n",
        "\n",
        "https://colab.research.google.com/github/casangi/cngi_prototype/blob/master/docs/verification/performance.ipynb"
      ]
    }
  ]
}