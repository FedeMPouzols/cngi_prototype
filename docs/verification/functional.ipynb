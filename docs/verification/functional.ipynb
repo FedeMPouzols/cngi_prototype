{
  "nbformat": 4,
  "nbformat_minor": 0,
  "metadata": {
    "colab": {
      "name": "functional.ipynb",
      "provenance": [],
      "collapsed_sections": [],
      "toc_visible": true,
      "include_colab_link": true
    },
    "kernelspec": {
      "name": "python3",
      "display_name": "Python 3"
    }
  },
  "cells": [
    {
      "cell_type": "markdown",
      "metadata": {
        "id": "view-in-github",
        "colab_type": "text"
      },
      "source": [
        "<a href=\"https://colab.research.google.com/github/casangi/cngi_prototype/blob/master/docs/verification/functional.ipynb\" target=\"_parent\"><img src=\"https://colab.research.google.com/assets/colab-badge.svg\" alt=\"Open In Colab\"/></a>"
      ]
    },
    {
      "cell_type": "markdown",
      "metadata": {
        "id": "xr_RX4CA876u",
        "colab_type": "text"
      },
      "source": [
        "# Functional\n",
        "\n",
        "Functional verification demonstrates that the released code matches the released documentation for each version.\n",
        "\n",
        "This section is TBD"
      ]
    },
    {
      "cell_type": "markdown",
      "metadata": {
        "id": "SdrhXD0CoVOA",
        "colab_type": "text"
      },
      "source": [
        "## Execute this Notebook in Colab\n",
        "\n",
        "https://colab.research.google.com/github/casangi/cngi_prototype/blob/master/docs/verification/functional.ipynb"
      ]
    }
  ]
}