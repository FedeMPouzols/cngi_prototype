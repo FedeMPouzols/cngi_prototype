{
  "nbformat": 4,
  "nbformat_minor": 0,
  "metadata": {
    "colab": {
      "name": "vis_regression.ipynb",
      "provenance": [],
      "collapsed_sections": [],
      "toc_visible": true,
      "include_colab_link": true
    },
    "kernelspec": {
      "name": "python3",
      "display_name": "Python 3"
    }
  },
  "cells": [
    {
      "cell_type": "markdown",
      "metadata": {
        "id": "view-in-github",
        "colab_type": "text"
      },
      "source": [
        "<a href=\"https://colab.research.google.com/github/casangi/cngi_prototype/blob/master/docs/verification/vis_regression.ipynb\" target=\"_parent\"><img src=\"https://colab.research.google.com/assets/colab-badge.svg\" alt=\"Open In Colab\"/></a>"
      ]
    },
    {
      "cell_type": "markdown",
      "metadata": {
        "id": "xr_RX4CA876u",
        "colab_type": "text"
      },
      "source": [
        "# Visibility Regression\n",
        "\n",
        "Here we map CASA 6 MS middleware related tasks to the equivalent CNGI functionality and show that the resulting numerical output is the same\n"
      ]
    },
    {
      "cell_type": "code",
      "metadata": {
        "id": "IIr5sp0VgR2m",
        "colab_type": "code",
        "outputId": "eb92653f-5aa6-4ba9-f17f-341a036568ee",
        "colab": {
          "base_uri": "https://localhost:8080/",
          "height": 204
        }
      },
      "source": [
        "import os, warnings\n",
        "warnings.simplefilter(\"ignore\", category=RuntimeWarning)  # suppress warnings about nan-slices\n",
        "print(\"installing cngi (takes a few minutes)...\")\n",
        "os.system(\"apt-get install libgfortran3\")\n",
        "os.system(\"pip install --index-url https://casa-pip.nrao.edu/repository/pypi-casa-release/simple casatasks==6.0.0.27\")\n",
        "os.system(\"pip install cngi-prototype==0.0.48\")\n",
        "\n",
        "print(\"downloading MeasurementSet from CASAguide First Look at Imaging...\")\n",
        "os.system(\"wget https://bulk.cv.nrao.edu/almadata/public/working/sis14_twhya_calibrated_flagged.ms.tar\")\n",
        "os.system(\"tar -xvf sis14_twhya_calibrated_flagged.ms.tar\")\n",
        "\n",
        "from cngi.conversion import convert_ms\n",
        "vis_xds = convert_ms('sis14_twhya_calibrated_flagged.ms')"
      ],
      "execution_count": 1,
      "outputs": [
        {
          "output_type": "stream",
          "text": [
            "installing cngi (takes a few minutes)...\n",
            "downloading MeasurementSet from CASAguide First Look at Imaging...\n",
            "processing sis14_twhya_calibrated_flagged.ms \n",
            "writing global partition\n",
            "meta data processing time  0.8493754863739014\n",
            "**********************************\n",
            "Processing ddi 0\n",
            "Selecting and sorting time  0.025704622268676758\n",
            "n_time: 410   n_baseline: 210   n_chan: 384   n_pol: 2  chunking:  [100, 400, 20, 1]  batchsize:  100\n",
            "Completed ddi 0  process time  19.304672479629517\n",
            "**********************************\n"
          ],
          "name": "stdout"
        }
      ]
    },
    {
      "cell_type": "markdown",
      "metadata": {
        "id": "Lj3Rwou0I_Aw",
        "colab_type": "text"
      },
      "source": [
        "## cvel\n",
        "TBD"
      ]
    },
    {
      "cell_type": "markdown",
      "metadata": {
        "id": "kZ3qaZkM4ndR",
        "colab_type": "text"
      },
      "source": [
        "## mstransform\n",
        "\n",
        "TBD"
      ]
    },
    {
      "cell_type": "markdown",
      "metadata": {
        "id": "5ZKCfIL84qzq",
        "colab_type": "text"
      },
      "source": [
        "## hanningsmooth\n",
        "\n",
        "TBD"
      ]
    },
    {
      "cell_type": "markdown",
      "metadata": {
        "id": "kIANYWS94vG0",
        "colab_type": "text"
      },
      "source": [
        "## uvcontsub\n",
        "\n",
        "TBD"
      ]
    },
    {
      "cell_type": "markdown",
      "metadata": {
        "id": "SdrhXD0CoVOA",
        "colab_type": "text"
      },
      "source": [
        "## Execute this Notebook in Colab\n",
        "\n",
        "https://colab.research.google.com/github/casangi/cngi_prototype/blob/master/docs/verification/vis_regression.ipynb"
      ]
    }
  ]
}