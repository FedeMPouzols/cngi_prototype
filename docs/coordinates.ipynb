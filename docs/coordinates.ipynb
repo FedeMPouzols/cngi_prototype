{
  "nbformat": 4,
  "nbformat_minor": 0,
  "metadata": {
    "colab": {
      "name": "coordinates.ipynb",
      "provenance": []
      "collapsed_sections": [],
      "toc_visible": true,
      "include_colab_link": true      
    },
    "kernelspec": {
      "name": "python3",
      "display_name": "Python 3"
    }
  },
  "cells": [
    {
      "cell_type": "markdown",
      "metadata": {
        "id": "P1MaUvBBKc0h",
        "colab_type": "text"
      },
      "source": [
        "# Coordinate Conversions\n",
        "Under development\n"
      ]
    },
    {
      "cell_type": "markdown",
      "metadata": {
        "id": "Fk6b-LdcKfxc",
        "colab_type": "text"
      },
      "source": [
        "## Frequency Reference Frames\n",
        "TBD"
      ]
    },
    {
      "cell_type": "markdown",
      "metadata": {
        "id": "l8afR5E4KgmB",
        "colab_type": "text"
      },
      "source": [
        "## Spatial Coordinates\n",
        "TBD\n"
      ]
    }
  ]
}
